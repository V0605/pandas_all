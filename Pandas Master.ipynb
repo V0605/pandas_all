{
 "cells": [
  {
   "cell_type": "code",
   "execution_count": null,
   "metadata": {},
   "outputs": [],
   "source": [
    "from notebook import notebookapp\n",
    "servers = list(notebookapp.list_running_servers())\n",
    "print(servers)"
   ]
  },
  {
   "cell_type": "markdown",
   "metadata": {},
   "source": [
    "# Added value content: search for:\n",
    "° adv"
   ]
  },
  {
   "cell_type": "markdown",
   "metadata": {},
   "source": [
    "# Status\n",
    "    Pandas Cookbook \n",
    "        Chapter 1 --> Done!\n",
    "        Chapter 2 --> Done!\n",
    "        Chapter 3 --> Done!\n",
    "        Chapter 4 --> Done!\n",
    "        Chapter 5 --> Done!\n",
    "        Chapter 6 --> Done!\n",
    "        Chapter 7 --> Customizing aggregating functions with *args and **kwargs"
   ]
  },
  {
   "cell_type": "markdown",
   "metadata": {},
   "source": [
    "<a id='000'></a>\n",
    "# Content\n",
    "° [Libraries Import](#Libraries-Import)\n",
    "\n",
    "° [Options](#Options)\n",
    "\n",
    "° [I/O Methods](#I/O-Methods)\n",
    "\n",
    "° [Indexes & Keys](#Indexes-&-Keys)\n",
    "\n",
    "° [Headers](#Headers)\n",
    "                \n",
    "  *   [Renaming Columns](#001)\n",
    "  \n",
    "  *   [Field Membership](#002)\n",
    "  \n",
    "  *   [Get Column Location](#003)\n",
    "  \n",
    "  *   [Columns Examination](#004)\n",
    "  \n",
    "  *   [Extracting Members of a lists/ Selecting Fields](#005)\n",
    "  \n",
    "          for cycle\n",
    "          abbreviate for cycle\n",
    "          union and symmetric difference\n",
    "\n",
    "° [Columns/Series](#Columns/Series)\n",
    "\n",
    "° [Rows](#Rows)\n",
    "\n",
    "° [DataFrame Manipulation](#DataFrame-Manipulation)\n",
    "\n",
    "\n",
    "° [List & Dictionaries](#List-&-Dictionaries)\n",
    "\n",
    "° [Excel Operations, Pivots, Vlookup](#Excel-Operations,-Pivots,-Vlookup)\n",
    "\n",
    "° [Plots & Graphs](#Plots-&-Graphs)\n",
    "\n",
    "° [Others](#Others)\n",
    "\n",
    "    ° Improving readability of boolean indexing with the query method\n",
    "    \n",
    "    ° Converting data row by row\n",
    "    \n",
    "    ° Highlighting Max Values\n",
    "\n",
    "° [Pandas Options](#Pandas-Options)"
   ]
  },
  {
   "cell_type": "markdown",
   "metadata": {},
   "source": [
    "# Libraries Import\n",
    "[back to Start](#Content)"
   ]
  },
  {
   "cell_type": "code",
   "execution_count": 1,
   "metadata": {},
   "outputs": [],
   "source": [
    "import pandas as pd\n",
    "import numpy as np\n",
    "import matplotlib.pyplot as plt\n",
    "\n",
    "%matplotlib inline"
   ]
  },
  {
   "cell_type": "markdown",
   "metadata": {},
   "source": [
    "# Options\n",
    "[back to Start](#Content)"
   ]
  },
  {
   "cell_type": "code",
   "execution_count": 2,
   "metadata": {},
   "outputs": [],
   "source": [
    "from IPython.core.interactiveshell import InteractiveShell\n",
    "InteractiveShell.ast_node_interactivity = \"all\"\n",
    "#InteractiveShell.ast_node_interactivity = \"last\"\n",
    "\n",
    "#from IPython.display import display\n",
    "#pd.options.display.max_columns = 50\n",
    "#pd.set_option('max_rows', 10)\n",
    "\n",
    "pd.set_option(\"display.max_rows\",10)    # or pd.options.display.max_rows=1000\n",
    "pd.set_option(\"display.max_columns\",20)   # or pd.options.display.max_columns=20 \n",
    "pd.set_option('precision',7)\n",
    "pd.set_option('large_repr', 'truncate')"
   ]
  },
  {
   "cell_type": "markdown",
   "metadata": {},
   "source": [
    "# I/O Methods\n",
    "[back to Start](#Content)"
   ]
  },
  {
   "cell_type": "markdown",
   "metadata": {},
   "source": [
    "### Reading a CSV File"
   ]
  },
  {
   "cell_type": "code",
   "execution_count": null,
   "metadata": {},
   "outputs": [],
   "source": [
    "#MOVIE DATABASE\n",
    "movie= pd.read_csv('master/movie.csv', index_col='movie_title')\n",
    "columns = movie.columns\n",
    "type_col = type(columns)\n",
    "index = movie.index\n",
    "data = movie.values\n",
    "columns.values\n",
    "list(columns)\n",
    "index.values\n",
    "movie.head()\n",
    "#Reading an Excel file\n"
   ]
  },
  {
   "cell_type": "markdown",
   "metadata": {},
   "source": [
    "### Reading an Excel File"
   ]
  },
  {
   "cell_type": "code",
   "execution_count": null,
   "metadata": {},
   "outputs": [],
   "source": []
  },
  {
   "cell_type": "markdown",
   "metadata": {},
   "source": [
    "### Export csv/xls file"
   ]
  },
  {
   "cell_type": "code",
   "execution_count": null,
   "metadata": {},
   "outputs": [],
   "source": [
    "writer_orig = pd.ExcelWriter('simple.xlsx', engine='xlsxwriter')\n",
    "df.to_excel(writer_orig, index=False, sheet_name='report')\n",
    "writer_orig.save()"
   ]
  },
  {
   "cell_type": "markdown",
   "metadata": {},
   "source": [
    "# Indexes & Keys\n",
    "[back to Start](#Content)"
   ]
  },
  {
   "cell_type": "markdown",
   "metadata": {},
   "source": [
    "### Set_Index"
   ]
  },
  {
   "cell_type": "code",
   "execution_count": null,
   "metadata": {},
   "outputs": [],
   "source": [
    "movie = pd.read_csv('master/movie.csv')\n",
    "movie2 = movie.set_index('movie_title')"
   ]
  },
  {
   "cell_type": "markdown",
   "metadata": {},
   "source": [
    "### Reset Index"
   ]
  },
  {
   "cell_type": "code",
   "execution_count": null,
   "metadata": {},
   "outputs": [],
   "source": [
    "movie3 = pd.read_csv('master/movie.csv', index_col='movie_title')\n",
    "print(set(movie2)==set(movie3))\n",
    "movie2.reset_index()\n",
    "print(set(movie)==set(movie2))\n",
    "movie2.head()"
   ]
  },
  {
   "cell_type": "markdown",
   "metadata": {},
   "source": [
    "### Renaming Index"
   ]
  },
  {
   "cell_type": "code",
   "execution_count": null,
   "metadata": {},
   "outputs": [],
   "source": [
    "idx_rename = {'Avatar':'Ratava', 'Spectre': 'Ertceps'} \n",
    "movie.rename(index=idx_rename, inplace = True)\n",
    "movie.head()"
   ]
  },
  {
   "cell_type": "markdown",
   "metadata": {},
   "source": [
    "### Manipulating Index"
   ]
  },
  {
   "cell_type": "code",
   "execution_count": null,
   "metadata": {},
   "outputs": [],
   "source": [
    "#1. Verifying unicity of index:\n",
    "print(\"1_______________________________________\")\n",
    "college = pd.read_csv('master/college.csv')\n",
    "college2 = college.set_index('STABBR')\n",
    "college.index.is_unique\n",
    "college2.index.is_unique\n",
    "\n",
    "#2. Using several fields to create a new index\n",
    "print(\"2_______________________________________\")\n",
    "\n",
    "college.index = college['CITY'] + ', ' + college['STABBR']\n",
    "college = college.sort_index()\n",
    "#college.loc['Miami, FL'].head(3)\n",
    "\n",
    "crit1 = college['CITY'] == 'Miami' \n",
    "crit2 = college['STABBR'] == 'FL'\n",
    "\n",
    "%timeit college[crit1 & crit2]\n",
    "\n",
    "%timeit college.loc['Miami, FL']"
   ]
  },
  {
   "cell_type": "code",
   "execution_count": null,
   "metadata": {},
   "outputs": [],
   "source": []
  },
  {
   "cell_type": "markdown",
   "metadata": {},
   "source": [
    "# Headers\n",
    "[back to Start](#000)"
   ]
  },
  {
   "cell_type": "markdown",
   "metadata": {},
   "source": [
    "<a id='001'></a>\n",
    "### Renaming Columns\n",
    "[back to Start](#000)"
   ]
  },
  {
   "cell_type": "code",
   "execution_count": null,
   "metadata": {
    "scrolled": false
   },
   "outputs": [],
   "source": [
    "movie = pd.read_csv('master/movie.csv')\n",
    "col_rename = {'director_name':'Director Name', \n",
    "              'num_critic_for_reviews': 'Critical Reviews'}\n",
    "\n",
    "movie.rename(columns=col_rename).head()"
   ]
  },
  {
   "cell_type": "code",
   "execution_count": null,
   "metadata": {},
   "outputs": [],
   "source": [
    "college = pd.read_csv('master/college.csv')\n",
    "columns = college.columns\n",
    "ext = ['CITY', 'MENONLY', 'WOMENONLY', 'UGDS_BLACK', 'UGDS_AIAN']\n",
    "new_ext = ['City', 'Men', 'Women', 'Black', 'Asian']\n",
    "rename_dict = dict(zip(ext, new_ext))\n",
    "college2 = college.rename(columns=rename_dict)[new_ext]#, inplace=True)\n",
    "college2.columns\n",
    "college2.head()"
   ]
  },
  {
   "cell_type": "markdown",
   "metadata": {},
   "source": [
    "<a id='002'></a>\n",
    "### Field Membership\n",
    "[back to Start](#000)"
   ]
  },
  {
   "cell_type": "code",
   "execution_count": null,
   "metadata": {},
   "outputs": [],
   "source": [
    "'Director Name' in movie.columns"
   ]
  },
  {
   "cell_type": "markdown",
   "metadata": {},
   "source": [
    "<a id='003'></a>\n",
    "### Get Column Location\n",
    "[back to Start](#000)"
   ]
  },
  {
   "cell_type": "code",
   "execution_count": null,
   "metadata": {},
   "outputs": [],
   "source": [
    "movie.columns\n",
    "movie.columns.get_loc('actor_3_facebook_likes')"
   ]
  },
  {
   "cell_type": "markdown",
   "metadata": {},
   "source": [
    "<a id='004'></a>\n",
    "### Columns Examination\n",
    "[back to Start](#000)"
   ]
  },
  {
   "cell_type": "code",
   "execution_count": null,
   "metadata": {},
   "outputs": [],
   "source": [
    "college = pd.read_csv('master/college.csv')\n",
    "columns = college.columns\n",
    "columns\n",
    "columns.sort_values()\n",
    "columns[5]\n",
    "columns[[1,8,10]]\n",
    "columns.values[[1,8,10]]\n",
    "columns[[1,8,10]].tolist()\n",
    "col_list = columns.tolist()"
   ]
  },
  {
   "cell_type": "markdown",
   "metadata": {},
   "source": [
    "<a id='005'></a>\n",
    "### Extracting Members of a lists/ Selecting Fields\n",
    "[back to Start](#000)"
   ]
  },
  {
   "cell_type": "code",
   "execution_count": null,
   "metadata": {},
   "outputs": [],
   "source": [
    "#col_list\n",
    "ext=[]\n",
    "for i in [1,4,5,12,15]:\n",
    "    ext.append(col_list[i])\n",
    "#[i for  j in col_list if i == j]\n",
    "ext"
   ]
  },
  {
   "cell_type": "code",
   "execution_count": null,
   "metadata": {},
   "outputs": [],
   "source": [
    "ext=[col_list[i] for i in [1,4,5,12,15]]\n",
    "ext\n",
    "print(\"http://blog.teamtreehouse.com/python-single-line-loops\")"
   ]
  },
  {
   "cell_type": "code",
   "execution_count": null,
   "metadata": {},
   "outputs": [],
   "source": [
    "columns.min(), columns.max(), columns.isnull().sum()"
   ]
  },
  {
   "cell_type": "code",
   "execution_count": null,
   "metadata": {},
   "outputs": [],
   "source": [
    "c1 = columns[:4]\n",
    "c1\n",
    "c2 = columns[2:5]\n",
    "c2\n",
    "print(\"_________UNION___________\")\n",
    "c1.union(c2) #or\n",
    "c1 | c2\n",
    "print(\"_________symmetric diference___________\")\n",
    "c1.symmetric_difference(c2) #or\n",
    "c1 ^ c2"
   ]
  },
  {
   "cell_type": "markdown",
   "metadata": {},
   "source": [
    "# Columns/Series\n",
    "[back to Start](#Content)"
   ]
  },
  {
   "cell_type": "markdown",
   "metadata": {},
   "source": [
    "### Columns types and counting columns with a specific type"
   ]
  },
  {
   "cell_type": "code",
   "execution_count": null,
   "metadata": {},
   "outputs": [],
   "source": [
    "movie= pd.read_csv('master/movie.csv')\n",
    "movie.dtypes\n",
    "movie.get_dtype_counts()"
   ]
  },
  {
   "cell_type": "markdown",
   "metadata": {},
   "source": [
    "### Selecting a single column"
   ]
  },
  {
   "cell_type": "code",
   "execution_count": null,
   "metadata": {},
   "outputs": [],
   "source": [
    "movie['director_name']\n",
    "movie['director_name'].to_frame()# show columns as frame format\n",
    "movie.director_name\n",
    "movie.director_name.to_frame() # show columns as frame format\n",
    "director = movie.director_name # save a Series to variable\n",
    "type(director) #--Series\n",
    "list(director) # convert a Serie/Column in a list or use:\n",
    "director.tolist()\n",
    "director.dtype"
   ]
  },
  {
   "cell_type": "markdown",
   "metadata": {},
   "source": [
    "### Selecting multiple DataFrame columns"
   ]
  },
  {
   "cell_type": "code",
   "execution_count": null,
   "metadata": {},
   "outputs": [],
   "source": [
    "movie_actor_director = movie[['actor_1_name', 'actor_2_name', 'actor_3_name', 'director_name']] # OR\n",
    "cols =['actor_1_name', 'actor_2_name', 'actor_3_name', 'director_name']\n",
    "movie_actor_director = movie[cols]"
   ]
  },
  {
   "cell_type": "markdown",
   "metadata": {},
   "source": [
    "### Counting values (value_counts() method)"
   ]
  },
  {
   "cell_type": "code",
   "execution_count": null,
   "metadata": {},
   "outputs": [],
   "source": [
    "director.value_counts() # method to determine frequency of elements in a Series\n",
    "director.value_counts().sum()\n",
    "director.value_counts(normalize = True)"
   ]
  },
  {
   "cell_type": "markdown",
   "metadata": {},
   "source": [
    "### Column Lenght and Size"
   ]
  },
  {
   "cell_type": "code",
   "execution_count": null,
   "metadata": {},
   "outputs": [],
   "source": [
    "director.size == len(director) # two ways to determine series's lenght\n",
    "director.size == director.count() #size and count get different results if we have null values"
   ]
  },
  {
   "cell_type": "markdown",
   "metadata": {},
   "source": [
    "### Statistic Properties"
   ]
  },
  {
   "cell_type": "code",
   "execution_count": null,
   "metadata": {},
   "outputs": [],
   "source": [
    "director.describe()\n",
    "actor_1_fb_likes = movie['actor_1_facebook_likes']\n",
    "actor_1_fb_likes.quantile([.1, .2, .3, .4, .5, .6, .7, .8, .9])\n",
    "actor_1_fb_likes.describe()\n",
    "movie.describe()"
   ]
  },
  {
   "cell_type": "markdown",
   "metadata": {},
   "source": [
    "### Inspecting Series (null values, zero values, etc)"
   ]
  },
  {
   "cell_type": "code",
   "execution_count": null,
   "metadata": {},
   "outputs": [],
   "source": [
    "director.isnull()\n",
    "director.isnull().sum()\n",
    "director.size - director.count() == director.isnull().sum() #true!!\n",
    "\n",
    "director.notnull()\n",
    "director.notnull().sum()\n",
    "director.hasnans\n",
    "\n",
    "print(director.notnull().sum())\n",
    "print(director.size)\n",
    "print(len(director))\n",
    "print(director.isnull().sum())"
   ]
  },
  {
   "cell_type": "markdown",
   "metadata": {},
   "source": [
    "### Modifying a Serie"
   ]
  },
  {
   "cell_type": "code",
   "execution_count": null,
   "metadata": {},
   "outputs": [],
   "source": [
    "actor_1_fb_likes.fillna(0)\\\n",
    "                .astype(int)\\\n",
    "                .head()"
   ]
  },
  {
   "cell_type": "code",
   "execution_count": null,
   "metadata": {},
   "outputs": [],
   "source": [
    "print(director.notnull().sum())\n",
    "print(director.size)\n",
    "print(len(director))\n",
    "print(director.isnull().sum())"
   ]
  },
  {
   "cell_type": "code",
   "execution_count": null,
   "metadata": {},
   "outputs": [],
   "source": [
    "dir_list = director.tolist()\n",
    "dir_list[98]"
   ]
  },
  {
   "cell_type": "markdown",
   "metadata": {},
   "source": [
    "### Adding Columns"
   ]
  },
  {
   "cell_type": "code",
   "execution_count": null,
   "metadata": {},
   "outputs": [],
   "source": [
    "'actor_director_facebook_likes' in movie.columns\n",
    "movie['actor_director_facebook_likes'] = (movie['actor_1_facebook_likes'] + \n",
    "                                              movie['actor_2_facebook_likes'] + \n",
    "                                              movie['actor_3_facebook_likes'] + \n",
    "                                              movie['director_facebook_likes'])\n",
    "\n",
    "print(movie.actor_director_facebook_likes.isnull().sum())\n",
    "movie.actor_director_facebook_likes = movie.actor_director_facebook_likes.fillna(0)\n",
    "print(movie.actor_director_facebook_likes.isnull().sum())\n",
    "\n",
    "print('actor_director_facebook_likes' in movie.columns)\n"
   ]
  },
  {
   "cell_type": "markdown",
   "metadata": {},
   "source": [
    "### Operations with Columns"
   ]
  },
  {
   "cell_type": "code",
   "execution_count": null,
   "metadata": {},
   "outputs": [],
   "source": [
    "movie['actor_total_facebook_likes'] = (movie['actor_1_facebook_likes'] + \n",
    "                                       movie['actor_2_facebook_likes'] + \n",
    "                                       movie['actor_3_facebook_likes'])\n",
    "\n",
    "movie['actor_total_facebook_likes'] = movie['actor_total_facebook_likes'].fillna(0)\n",
    "movie['is_cast_likes_more'] = movie['cast_total_facebook_likes'] >=  movie['actor_total_facebook_likes']    \n",
    "movie['is_cast_likes_more'].all()"
   ]
  },
  {
   "cell_type": "markdown",
   "metadata": {},
   "source": [
    "### Dropping/ Delete Columns "
   ]
  },
  {
   "cell_type": "code",
   "execution_count": null,
   "metadata": {},
   "outputs": [],
   "source": [
    "movie = movie.drop('actor_director_facebook_likes', axis='columns')\n",
    "'actor_director_facebook_likes' in movie.columns\n",
    "movie['is_cast_likes_more'].all()"
   ]
  },
  {
   "cell_type": "markdown",
   "metadata": {},
   "source": [
    "### Selecting columns with methods"
   ]
  },
  {
   "cell_type": "code",
   "execution_count": null,
   "metadata": {},
   "outputs": [],
   "source": [
    "movie.select_dtypes(include=['int']).head()\n",
    "movie.select_dtypes(include=['number']).head()\n",
    "movie.filter(like='facebook').head()\n",
    "movie.filter(regex='\\d').head()\n",
    "movie.filter(items=['actor_1_name', 'asdf']).head()"
   ]
  },
  {
   "cell_type": "markdown",
   "metadata": {},
   "source": [
    "### Inspecting DataFrames (null values, zero values, etc)\n"
   ]
  },
  {
   "cell_type": "code",
   "execution_count": null,
   "metadata": {},
   "outputs": [],
   "source": [
    "movie.isnull().sum()\n",
    "movie.isnull().sum().sum()\n",
    "movie.isnull().any().any()"
   ]
  },
  {
   "cell_type": "markdown",
   "metadata": {},
   "source": [
    "### Filtering Columns"
   ]
  },
  {
   "cell_type": "code",
   "execution_count": null,
   "metadata": {},
   "outputs": [],
   "source": [
    "movie.columns\n",
    "movie_actor = movie.filter(like='actor')\n",
    "movie_actor.head()"
   ]
  },
  {
   "cell_type": "markdown",
   "metadata": {},
   "source": [
    "### Operations on Axis (Columns/Axis 0)"
   ]
  },
  {
   "cell_type": "code",
   "execution_count": null,
   "metadata": {},
   "outputs": [],
   "source": [
    "college = pd.read_csv('master/college.csv', index_col='INSTNM')\n",
    "college_ugds_ = college.filter(like='UGDS_')\n",
    "college_ugds_.count() # Default axis is the zero axis or index axis:\n",
    "college_ugds_.count(axis = 0)\n",
    "college_ugds_.count(axis = 'index')\n",
    "college_ugds_.sum()"
   ]
  },
  {
   "cell_type": "markdown",
   "metadata": {},
   "source": [
    "### Operations on Axis (Rows/Axis 1)"
   ]
  },
  {
   "cell_type": "code",
   "execution_count": null,
   "metadata": {},
   "outputs": [],
   "source": [
    "college_ugds_.count(axis = 1)\n",
    "college_ugds_.count(axis = 'columns')\n",
    "\n",
    "college_ugds_cumsum = college_ugds_.cumsum(axis=1)\n",
    "college_ugds_cumsum.sort_values('UGDS_HISP', ascending=False).head()\n",
    "college_ugds_.isnull().sum(axis=1).sort_values(ascending=False).head()\n"
   ]
  },
  {
   "cell_type": "markdown",
   "metadata": {},
   "source": [
    "### Selecting Subsets of Columns (.iloc)"
   ]
  },
  {
   "cell_type": "code",
   "execution_count": null,
   "metadata": {},
   "outputs": [],
   "source": [
    "college = pd.read_csv('master/college.csv', index_col='INSTNM')\n",
    "#college.iloc[:, :4]\n",
    "college.iloc[:3, :4]\n",
    "college.iloc[:3,:]\n",
    "\n",
    "college.loc[:'Amridge University', :'MENONLY']\n",
    "\n",
    "college.iloc[[100, 200], [7, 15]] # the following do the same\n",
    "rows = ['GateWay Community College', 'American Baptist Seminary of the West']\n",
    "columns = ['SATMTMID', 'UGDS_NHPI']\n",
    "college.loc[rows, columns]"
   ]
  },
  {
   "cell_type": "markdown",
   "metadata": {},
   "source": [
    "### Selecting data with both integers and labels"
   ]
  },
  {
   "cell_type": "code",
   "execution_count": null,
   "metadata": {},
   "outputs": [],
   "source": [
    "college = pd.read_csv('master/college.csv', index_col='INSTNM')\n",
    "col_start = college.columns.get_loc('UGDS_WHITE')\n",
    "col_end = college.columns.get_loc('UGDS_UNKN') + 1\n",
    "col_start, col_end\n",
    "college.iloc[:5, col_start:col_end]"
   ]
  },
  {
   "cell_type": "markdown",
   "metadata": {},
   "source": [
    "# Rows\n",
    "[back to Start](#Content)"
   ]
  },
  {
   "cell_type": "markdown",
   "metadata": {
    "collapsed": true
   },
   "source": [
    "### Selecting Subset of Columns"
   ]
  },
  {
   "cell_type": "code",
   "execution_count": null,
   "metadata": {},
   "outputs": [],
   "source": [
    "college = pd.read_csv('master/college.csv', index_col='INSTNM')\n",
    "city = college['CITY']\n",
    "#city.to_frame()\n",
    "\n",
    "city.iloc[3]\n",
    "city.iloc[[3]]\n",
    "city.iloc[[10,20,30]]\n",
    "city.iloc[4:50:10]\n",
    "\n",
    "city.loc['Heritage Christian University']\n",
    "\n",
    "labels = list(np.random.choice(city.index, 4))\n",
    "labels\n",
    "city.loc[labels]\n",
    "\n",
    "city.loc['Alabama State University':'Reid State Technical College':10]\n",
    "\n",
    "college.iloc[[60, 99, 3]].index.tolist()"
   ]
  },
  {
   "cell_type": "code",
   "execution_count": null,
   "metadata": {},
   "outputs": [],
   "source": []
  },
  {
   "cell_type": "code",
   "execution_count": null,
   "metadata": {},
   "outputs": [],
   "source": []
  },
  {
   "cell_type": "code",
   "execution_count": null,
   "metadata": {},
   "outputs": [],
   "source": []
  },
  {
   "cell_type": "markdown",
   "metadata": {},
   "source": [
    "# DataFrame Manipulation\n",
    "[back to start](#000)"
   ]
  },
  {
   "cell_type": "code",
   "execution_count": null,
   "metadata": {},
   "outputs": [],
   "source": [
    "### Reading the File\n",
    "college = pd.read_csv('master/college.csv', index_col='INSTNM')\n",
    "college.head()"
   ]
  },
  {
   "cell_type": "code",
   "execution_count": null,
   "metadata": {},
   "outputs": [],
   "source": [
    "#filtering columns\n",
    "college_ugds_ = college.filter(like='UGDS_')\n",
    "college_ugds_.head()"
   ]
  },
  {
   "cell_type": "code",
   "execution_count": null,
   "metadata": {},
   "outputs": [],
   "source": [
    "#sorting\n",
    "college_ugds_.isnull().sum(axis=1).sort_values(ascending=False)"
   ]
  },
  {
   "cell_type": "code",
   "execution_count": null,
   "metadata": {},
   "outputs": [],
   "source": [
    "#drop na\n",
    "college_ugds_ = college_ugds_.dropna(how='all')\n",
    "college_ugds_.isnull().sum()\n",
    "college_ugds_.isnull().sum().sum()"
   ]
  },
  {
   "cell_type": "code",
   "execution_count": null,
   "metadata": {},
   "outputs": [],
   "source": [
    "#Other Manipulations\n",
    "college_ugds_.ge(.15).head()\n",
    "diversity_metric = college_ugds_.ge(.15).sum(axis='columns')\n",
    "diversity_metric.head()\n",
    "diversity_metric.value_counts()\n",
    "diversity_metric.sort_values(ascending=False).head()"
   ]
  },
  {
   "cell_type": "code",
   "execution_count": null,
   "metadata": {},
   "outputs": [],
   "source": [
    "college.shape\n",
    "college.describe(include = [np.number]).T"
   ]
  },
  {
   "cell_type": "code",
   "execution_count": null,
   "metadata": {},
   "outputs": [],
   "source": [
    "college.describe(include=[np.object, pd.Categorical]).T"
   ]
  },
  {
   "cell_type": "code",
   "execution_count": null,
   "metadata": {},
   "outputs": [],
   "source": [
    "# Selecting the smallest of the largest\n",
    "movie = pd.read_csv('master/movie.csv')\n",
    "movie2 = movie[['movie_title', 'imdb_score', 'budget']]\n",
    "\n",
    "movie2.nlargest(10, 'imdb_score')\n",
    "movie2.nlargest(10, 'imdb_score').nsmallest(5,'budget')\n"
   ]
  },
  {
   "cell_type": "code",
   "execution_count": null,
   "metadata": {},
   "outputs": [],
   "source": [
    "#SORTING DataFrame (sort_values method)\n",
    "movie4 = movie[['movie_title', 'title_year', 'content_rating', 'budget']]\n",
    "movie4_sorted = movie4.sort_values(['title_year', 'content_rating', 'budget'], \n",
    "                                   ascending=[True, False, True],\n",
    "                                  inplace = False)\n",
    "movie4_sorted.drop_duplicates(subset=['title_year', 'content_rating']).head(10)"
   ]
  },
  {
   "cell_type": "markdown",
   "metadata": {},
   "source": [
    "### Droping Duplicates"
   ]
  },
  {
   "cell_type": "code",
   "execution_count": null,
   "metadata": {},
   "outputs": [],
   "source": [
    "data = pd.DataFrame({'k1': ['one'] * 3 + ['two'] * 4, 'k2': [3, 2, 1, 3, 3, 4, 4]})\n",
    "data.sort_values(by='k2')\n",
    "data.drop_duplicates()  # by default, duplicate is defined by all columns\n",
    "data.drop_duplicates(subset='k1')  # duplicate in column k1 only"
   ]
  },
  {
   "cell_type": "markdown",
   "metadata": {},
   "source": [
    "### Creating a Column using map"
   ]
  },
  {
   "cell_type": "code",
   "execution_count": null,
   "metadata": {},
   "outputs": [],
   "source": [
    "data = pd.DataFrame({'food': ['bacon', 'pulled pork', 'bacon', 'Pastrami','corned beef', 'Bacon', 'pastrami', 'honey ham','nova lox'],\n",
    "                 'ounces': [4, 3, 12, 6, 7.5, 8, 3, 5, 6]})\n",
    "data\n",
    "meat_to_animal = {\n",
    "'bacon': 'pig',\n",
    "'pulled pork': 'pig',\n",
    "'pastrami': 'cow',\n",
    "'corned beef': 'cow',\n",
    "'honey ham': 'pig',\n",
    "'nova lox': 'salmon'\n",
    "}\n",
    "\n",
    "data['animal'] = data['food'].map(meat_to_animal) #see row 4 and 5\n",
    "data\n",
    "\n",
    "data['animal'] = data['food'].map(str.lower).map(meat_to_animal) \n",
    "data\n"
   ]
  },
  {
   "cell_type": "markdown",
   "metadata": {},
   "source": [
    "### Adding a column using assign function, vlookup with map, grouping and include total row (adv)"
   ]
  },
  {
   "cell_type": "code",
   "execution_count": 30,
   "metadata": {},
   "outputs": [
    {
     "data": {
      "text/html": [
       "<div>\n",
       "<style scoped>\n",
       "    .dataframe tbody tr th:only-of-type {\n",
       "        vertical-align: middle;\n",
       "    }\n",
       "\n",
       "    .dataframe tbody tr th {\n",
       "        vertical-align: top;\n",
       "    }\n",
       "\n",
       "    .dataframe thead th {\n",
       "        text-align: right;\n",
       "    }\n",
       "</style>\n",
       "<table border=\"1\" class=\"dataframe\">\n",
       "  <thead>\n",
       "    <tr style=\"text-align: right;\">\n",
       "      <th></th>\n",
       "      <th>data1</th>\n",
       "      <th>data2</th>\n",
       "      <th>data3</th>\n",
       "    </tr>\n",
       "  </thead>\n",
       "  <tbody>\n",
       "    <tr>\n",
       "      <th>0</th>\n",
       "      <td>-0.1050207</td>\n",
       "      <td>-0.8682810</td>\n",
       "      <td>1.7301241</td>\n",
       "    </tr>\n",
       "    <tr>\n",
       "      <th>1</th>\n",
       "      <td>0.4941054</td>\n",
       "      <td>0.0874821</td>\n",
       "      <td>-1.2302921</td>\n",
       "    </tr>\n",
       "    <tr>\n",
       "      <th>2</th>\n",
       "      <td>1.1069204</td>\n",
       "      <td>-1.4387491</td>\n",
       "      <td>1.2218795</td>\n",
       "    </tr>\n",
       "    <tr>\n",
       "      <th>3</th>\n",
       "      <td>-0.3504840</td>\n",
       "      <td>1.0339074</td>\n",
       "      <td>0.1122596</td>\n",
       "    </tr>\n",
       "    <tr>\n",
       "      <th>4</th>\n",
       "      <td>-0.0155836</td>\n",
       "      <td>-0.2651210</td>\n",
       "      <td>-0.0706888</td>\n",
       "    </tr>\n",
       "  </tbody>\n",
       "</table>\n",
       "</div>"
      ],
      "text/plain": [
       "       data1      data2      data3\n",
       "0 -0.1050207 -0.8682810  1.7301241\n",
       "1  0.4941054  0.0874821 -1.2302921\n",
       "2  1.1069204 -1.4387491  1.2218795\n",
       "3 -0.3504840  1.0339074  0.1122596\n",
       "4 -0.0155836 -0.2651210 -0.0706888"
      ]
     },
     "execution_count": 30,
     "metadata": {},
     "output_type": "execute_result"
    }
   ],
   "source": [
    "df = pd.DataFrame({'data1' : np.random.randn(5),\n",
    "                   'data2' : np.random.randn(5),\n",
    "                   'data3' : np.random.randn(5)})\n",
    "df"
   ]
  },
  {
   "cell_type": "code",
   "execution_count": 31,
   "metadata": {},
   "outputs": [
    {
     "data": {
      "text/html": [
       "<div>\n",
       "<style scoped>\n",
       "    .dataframe tbody tr th:only-of-type {\n",
       "        vertical-align: middle;\n",
       "    }\n",
       "\n",
       "    .dataframe tbody tr th {\n",
       "        vertical-align: top;\n",
       "    }\n",
       "\n",
       "    .dataframe thead th {\n",
       "        text-align: right;\n",
       "    }\n",
       "</style>\n",
       "<table border=\"1\" class=\"dataframe\">\n",
       "  <thead>\n",
       "    <tr style=\"text-align: right;\">\n",
       "      <th></th>\n",
       "      <th>data1</th>\n",
       "      <th>data2</th>\n",
       "      <th>data3</th>\n",
       "    </tr>\n",
       "    <tr>\n",
       "      <th>city</th>\n",
       "      <th></th>\n",
       "      <th></th>\n",
       "      <th></th>\n",
       "    </tr>\n",
       "  </thead>\n",
       "  <tbody>\n",
       "    <tr>\n",
       "      <th>Caracas</th>\n",
       "      <td>-0.1050207</td>\n",
       "      <td>-0.8682810</td>\n",
       "      <td>1.7301241</td>\n",
       "    </tr>\n",
       "    <tr>\n",
       "      <th>Maturin</th>\n",
       "      <td>0.4941054</td>\n",
       "      <td>0.0874821</td>\n",
       "      <td>-1.2302921</td>\n",
       "    </tr>\n",
       "    <tr>\n",
       "      <th>Valencia</th>\n",
       "      <td>1.1069204</td>\n",
       "      <td>-1.4387491</td>\n",
       "      <td>1.2218795</td>\n",
       "    </tr>\n",
       "    <tr>\n",
       "      <th>Barcelona</th>\n",
       "      <td>-0.3504840</td>\n",
       "      <td>1.0339074</td>\n",
       "      <td>0.1122596</td>\n",
       "    </tr>\n",
       "    <tr>\n",
       "      <th>Londres</th>\n",
       "      <td>-0.0155836</td>\n",
       "      <td>-0.2651210</td>\n",
       "      <td>-0.0706888</td>\n",
       "    </tr>\n",
       "  </tbody>\n",
       "</table>\n",
       "</div>"
      ],
      "text/plain": [
       "               data1      data2      data3\n",
       "city                                      \n",
       "Caracas   -0.1050207 -0.8682810  1.7301241\n",
       "Maturin    0.4941054  0.0874821 -1.2302921\n",
       "Valencia   1.1069204 -1.4387491  1.2218795\n",
       "Barcelona -0.3504840  1.0339074  0.1122596\n",
       "Londres   -0.0155836 -0.2651210 -0.0706888"
      ]
     },
     "execution_count": 31,
     "metadata": {},
     "output_type": "execute_result"
    }
   ],
   "source": [
    "df['city'] = ['Caracas', 'Maturin', 'Valencia', 'Barcelona','Londres']\n",
    "df.set_index('city', inplace = True)\n",
    "df"
   ]
  },
  {
   "cell_type": "code",
   "execution_count": 32,
   "metadata": {},
   "outputs": [
    {
     "data": {
      "text/html": [
       "<div>\n",
       "<style scoped>\n",
       "    .dataframe tbody tr th:only-of-type {\n",
       "        vertical-align: middle;\n",
       "    }\n",
       "\n",
       "    .dataframe tbody tr th {\n",
       "        vertical-align: top;\n",
       "    }\n",
       "\n",
       "    .dataframe thead th {\n",
       "        text-align: right;\n",
       "    }\n",
       "</style>\n",
       "<table border=\"1\" class=\"dataframe\">\n",
       "  <thead>\n",
       "    <tr style=\"text-align: right;\">\n",
       "      <th></th>\n",
       "      <th>data1</th>\n",
       "      <th>data2</th>\n",
       "      <th>data3</th>\n",
       "      <th>ratio</th>\n",
       "    </tr>\n",
       "    <tr>\n",
       "      <th>city</th>\n",
       "      <th></th>\n",
       "      <th></th>\n",
       "      <th></th>\n",
       "      <th></th>\n",
       "    </tr>\n",
       "  </thead>\n",
       "  <tbody>\n",
       "    <tr>\n",
       "      <th>Caracas</th>\n",
       "      <td>-0.1050207</td>\n",
       "      <td>-0.8682810</td>\n",
       "      <td>1.7301241</td>\n",
       "      <td>0.1209524</td>\n",
       "    </tr>\n",
       "    <tr>\n",
       "      <th>Maturin</th>\n",
       "      <td>0.4941054</td>\n",
       "      <td>0.0874821</td>\n",
       "      <td>-1.2302921</td>\n",
       "      <td>5.6480772</td>\n",
       "    </tr>\n",
       "    <tr>\n",
       "      <th>Valencia</th>\n",
       "      <td>1.1069204</td>\n",
       "      <td>-1.4387491</td>\n",
       "      <td>1.2218795</td>\n",
       "      <td>-0.7693631</td>\n",
       "    </tr>\n",
       "    <tr>\n",
       "      <th>Barcelona</th>\n",
       "      <td>-0.3504840</td>\n",
       "      <td>1.0339074</td>\n",
       "      <td>0.1122596</td>\n",
       "      <td>-0.3389898</td>\n",
       "    </tr>\n",
       "    <tr>\n",
       "      <th>Londres</th>\n",
       "      <td>-0.0155836</td>\n",
       "      <td>-0.2651210</td>\n",
       "      <td>-0.0706888</td>\n",
       "      <td>0.0587791</td>\n",
       "    </tr>\n",
       "  </tbody>\n",
       "</table>\n",
       "</div>"
      ],
      "text/plain": [
       "               data1      data2      data3      ratio\n",
       "city                                                 \n",
       "Caracas   -0.1050207 -0.8682810  1.7301241  0.1209524\n",
       "Maturin    0.4941054  0.0874821 -1.2302921  5.6480772\n",
       "Valencia   1.1069204 -1.4387491  1.2218795 -0.7693631\n",
       "Barcelona -0.3504840  1.0339074  0.1122596 -0.3389898\n",
       "Londres   -0.0155836 -0.2651210 -0.0706888  0.0587791"
      ]
     },
     "execution_count": 32,
     "metadata": {},
     "output_type": "execute_result"
    },
    {
     "data": {
      "text/html": [
       "<div>\n",
       "<style scoped>\n",
       "    .dataframe tbody tr th:only-of-type {\n",
       "        vertical-align: middle;\n",
       "    }\n",
       "\n",
       "    .dataframe tbody tr th {\n",
       "        vertical-align: top;\n",
       "    }\n",
       "\n",
       "    .dataframe thead th {\n",
       "        text-align: right;\n",
       "    }\n",
       "</style>\n",
       "<table border=\"1\" class=\"dataframe\">\n",
       "  <thead>\n",
       "    <tr style=\"text-align: right;\">\n",
       "      <th></th>\n",
       "      <th>data1</th>\n",
       "      <th>data2</th>\n",
       "      <th>data3</th>\n",
       "      <th>average</th>\n",
       "    </tr>\n",
       "    <tr>\n",
       "      <th>city</th>\n",
       "      <th></th>\n",
       "      <th></th>\n",
       "      <th></th>\n",
       "      <th></th>\n",
       "    </tr>\n",
       "  </thead>\n",
       "  <tbody>\n",
       "    <tr>\n",
       "      <th>Caracas</th>\n",
       "      <td>-0.1050207</td>\n",
       "      <td>-0.8682810</td>\n",
       "      <td>1.7301241</td>\n",
       "      <td>0.2522741</td>\n",
       "    </tr>\n",
       "    <tr>\n",
       "      <th>Maturin</th>\n",
       "      <td>0.4941054</td>\n",
       "      <td>0.0874821</td>\n",
       "      <td>-1.2302921</td>\n",
       "      <td>-0.2162349</td>\n",
       "    </tr>\n",
       "    <tr>\n",
       "      <th>Valencia</th>\n",
       "      <td>1.1069204</td>\n",
       "      <td>-1.4387491</td>\n",
       "      <td>1.2218795</td>\n",
       "      <td>0.2966836</td>\n",
       "    </tr>\n",
       "    <tr>\n",
       "      <th>Barcelona</th>\n",
       "      <td>-0.3504840</td>\n",
       "      <td>1.0339074</td>\n",
       "      <td>0.1122596</td>\n",
       "      <td>0.2652277</td>\n",
       "    </tr>\n",
       "    <tr>\n",
       "      <th>Londres</th>\n",
       "      <td>-0.0155836</td>\n",
       "      <td>-0.2651210</td>\n",
       "      <td>-0.0706888</td>\n",
       "      <td>-0.1171311</td>\n",
       "    </tr>\n",
       "  </tbody>\n",
       "</table>\n",
       "</div>"
      ],
      "text/plain": [
       "               data1      data2      data3    average\n",
       "city                                                 \n",
       "Caracas   -0.1050207 -0.8682810  1.7301241  0.2522741\n",
       "Maturin    0.4941054  0.0874821 -1.2302921 -0.2162349\n",
       "Valencia   1.1069204 -1.4387491  1.2218795  0.2966836\n",
       "Barcelona -0.3504840  1.0339074  0.1122596  0.2652277\n",
       "Londres   -0.0155836 -0.2651210 -0.0706888 -0.1171311"
      ]
     },
     "execution_count": 32,
     "metadata": {},
     "output_type": "execute_result"
    }
   ],
   "source": [
    "# this show a result without adding the column, useful to preserve original df\n",
    "df.assign(ratio = df['data1'] / df['data2']) \n",
    "df.assign(average = df.mean(axis=1))"
   ]
  },
  {
   "cell_type": "code",
   "execution_count": 33,
   "metadata": {},
   "outputs": [
    {
     "data": {
      "text/html": [
       "<div>\n",
       "<style scoped>\n",
       "    .dataframe tbody tr th:only-of-type {\n",
       "        vertical-align: middle;\n",
       "    }\n",
       "\n",
       "    .dataframe tbody tr th {\n",
       "        vertical-align: top;\n",
       "    }\n",
       "\n",
       "    .dataframe thead th {\n",
       "        text-align: right;\n",
       "    }\n",
       "</style>\n",
       "<table border=\"1\" class=\"dataframe\">\n",
       "  <thead>\n",
       "    <tr style=\"text-align: right;\">\n",
       "      <th></th>\n",
       "      <th>data1</th>\n",
       "      <th>data2</th>\n",
       "      <th>data3</th>\n",
       "      <th>ratio</th>\n",
       "      <th>average</th>\n",
       "    </tr>\n",
       "    <tr>\n",
       "      <th>city</th>\n",
       "      <th></th>\n",
       "      <th></th>\n",
       "      <th></th>\n",
       "      <th></th>\n",
       "      <th></th>\n",
       "    </tr>\n",
       "  </thead>\n",
       "  <tbody>\n",
       "    <tr>\n",
       "      <th>Caracas</th>\n",
       "      <td>-0.1050207</td>\n",
       "      <td>-0.8682810</td>\n",
       "      <td>1.7301241</td>\n",
       "      <td>0.1209524</td>\n",
       "      <td>0.2194437</td>\n",
       "    </tr>\n",
       "    <tr>\n",
       "      <th>Maturin</th>\n",
       "      <td>0.4941054</td>\n",
       "      <td>0.0874821</td>\n",
       "      <td>-1.2302921</td>\n",
       "      <td>5.6480772</td>\n",
       "      <td>1.2498431</td>\n",
       "    </tr>\n",
       "    <tr>\n",
       "      <th>Valencia</th>\n",
       "      <td>1.1069204</td>\n",
       "      <td>-1.4387491</td>\n",
       "      <td>1.2218795</td>\n",
       "      <td>-0.7693631</td>\n",
       "      <td>0.0301719</td>\n",
       "    </tr>\n",
       "    <tr>\n",
       "      <th>Barcelona</th>\n",
       "      <td>-0.3504840</td>\n",
       "      <td>1.0339074</td>\n",
       "      <td>0.1122596</td>\n",
       "      <td>-0.3389898</td>\n",
       "      <td>0.1141733</td>\n",
       "    </tr>\n",
       "    <tr>\n",
       "      <th>Londres</th>\n",
       "      <td>-0.0155836</td>\n",
       "      <td>-0.2651210</td>\n",
       "      <td>-0.0706888</td>\n",
       "      <td>0.0587791</td>\n",
       "      <td>-0.0731536</td>\n",
       "    </tr>\n",
       "  </tbody>\n",
       "</table>\n",
       "</div>"
      ],
      "text/plain": [
       "               data1      data2      data3      ratio    average\n",
       "city                                                            \n",
       "Caracas   -0.1050207 -0.8682810  1.7301241  0.1209524  0.2194437\n",
       "Maturin    0.4941054  0.0874821 -1.2302921  5.6480772  1.2498431\n",
       "Valencia   1.1069204 -1.4387491  1.2218795 -0.7693631  0.0301719\n",
       "Barcelona -0.3504840  1.0339074  0.1122596 -0.3389898  0.1141733\n",
       "Londres   -0.0155836 -0.2651210 -0.0706888  0.0587791 -0.0731536"
      ]
     },
     "execution_count": 33,
     "metadata": {},
     "output_type": "execute_result"
    }
   ],
   "source": [
    "# this, instead, add a column to the original dataframe\n",
    "df['ratio']= df['data1'] / df['data2'] \n",
    "df['average'] = df.mean(axis=1)\n",
    "df"
   ]
  },
  {
   "cell_type": "code",
   "execution_count": 34,
   "metadata": {},
   "outputs": [
    {
     "data": {
      "text/html": [
       "<div>\n",
       "<style scoped>\n",
       "    .dataframe tbody tr th:only-of-type {\n",
       "        vertical-align: middle;\n",
       "    }\n",
       "\n",
       "    .dataframe tbody tr th {\n",
       "        vertical-align: top;\n",
       "    }\n",
       "\n",
       "    .dataframe thead th {\n",
       "        text-align: right;\n",
       "    }\n",
       "</style>\n",
       "<table border=\"1\" class=\"dataframe\">\n",
       "  <thead>\n",
       "    <tr style=\"text-align: right;\">\n",
       "      <th></th>\n",
       "      <th>data1</th>\n",
       "      <th>data2</th>\n",
       "      <th>data3</th>\n",
       "      <th>average</th>\n",
       "    </tr>\n",
       "    <tr>\n",
       "      <th>city</th>\n",
       "      <th></th>\n",
       "      <th></th>\n",
       "      <th></th>\n",
       "      <th></th>\n",
       "    </tr>\n",
       "  </thead>\n",
       "  <tbody>\n",
       "    <tr>\n",
       "      <th>Caracas</th>\n",
       "      <td>-0.1050207</td>\n",
       "      <td>-0.8682810</td>\n",
       "      <td>1.7301241</td>\n",
       "      <td>0.2194437</td>\n",
       "    </tr>\n",
       "    <tr>\n",
       "      <th>Maturin</th>\n",
       "      <td>0.4941054</td>\n",
       "      <td>0.0874821</td>\n",
       "      <td>-1.2302921</td>\n",
       "      <td>1.2498431</td>\n",
       "    </tr>\n",
       "    <tr>\n",
       "      <th>Valencia</th>\n",
       "      <td>1.1069204</td>\n",
       "      <td>-1.4387491</td>\n",
       "      <td>1.2218795</td>\n",
       "      <td>0.0301719</td>\n",
       "    </tr>\n",
       "    <tr>\n",
       "      <th>Barcelona</th>\n",
       "      <td>-0.3504840</td>\n",
       "      <td>1.0339074</td>\n",
       "      <td>0.1122596</td>\n",
       "      <td>0.1141733</td>\n",
       "    </tr>\n",
       "    <tr>\n",
       "      <th>Londres</th>\n",
       "      <td>-0.0155836</td>\n",
       "      <td>-0.2651210</td>\n",
       "      <td>-0.0706888</td>\n",
       "      <td>-0.0731536</td>\n",
       "    </tr>\n",
       "  </tbody>\n",
       "</table>\n",
       "</div>"
      ],
      "text/plain": [
       "               data1      data2      data3    average\n",
       "city                                                 \n",
       "Caracas   -0.1050207 -0.8682810  1.7301241  0.2194437\n",
       "Maturin    0.4941054  0.0874821 -1.2302921  1.2498431\n",
       "Valencia   1.1069204 -1.4387491  1.2218795  0.0301719\n",
       "Barcelona -0.3504840  1.0339074  0.1122596  0.1141733\n",
       "Londres   -0.0155836 -0.2651210 -0.0706888 -0.0731536"
      ]
     },
     "execution_count": 34,
     "metadata": {},
     "output_type": "execute_result"
    }
   ],
   "source": [
    "#this will drop the selected column\n",
    "if 'ratio' in df.columns: df.drop('ratio', axis = 'columns', inplace = True)\n",
    "df"
   ]
  },
  {
   "cell_type": "code",
   "execution_count": 35,
   "metadata": {},
   "outputs": [
    {
     "data": {
      "text/html": [
       "<div>\n",
       "<style scoped>\n",
       "    .dataframe tbody tr th:only-of-type {\n",
       "        vertical-align: middle;\n",
       "    }\n",
       "\n",
       "    .dataframe tbody tr th {\n",
       "        vertical-align: top;\n",
       "    }\n",
       "\n",
       "    .dataframe thead th {\n",
       "        text-align: right;\n",
       "    }\n",
       "</style>\n",
       "<table border=\"1\" class=\"dataframe\">\n",
       "  <thead>\n",
       "    <tr style=\"text-align: right;\">\n",
       "      <th></th>\n",
       "      <th>data1</th>\n",
       "      <th>data2</th>\n",
       "      <th>data3</th>\n",
       "      <th>average</th>\n",
       "      <th>ratio</th>\n",
       "    </tr>\n",
       "    <tr>\n",
       "      <th>city</th>\n",
       "      <th></th>\n",
       "      <th></th>\n",
       "      <th></th>\n",
       "      <th></th>\n",
       "      <th></th>\n",
       "    </tr>\n",
       "  </thead>\n",
       "  <tbody>\n",
       "    <tr>\n",
       "      <th>Caracas</th>\n",
       "      <td>-0.1050207</td>\n",
       "      <td>-0.8682810</td>\n",
       "      <td>1.7301241</td>\n",
       "      <td>0.2194437</td>\n",
       "      <td>1</td>\n",
       "    </tr>\n",
       "    <tr>\n",
       "      <th>Maturin</th>\n",
       "      <td>0.4941054</td>\n",
       "      <td>0.0874821</td>\n",
       "      <td>-1.2302921</td>\n",
       "      <td>1.2498431</td>\n",
       "      <td>1</td>\n",
       "    </tr>\n",
       "    <tr>\n",
       "      <th>Valencia</th>\n",
       "      <td>1.1069204</td>\n",
       "      <td>-1.4387491</td>\n",
       "      <td>1.2218795</td>\n",
       "      <td>0.0301719</td>\n",
       "      <td>999</td>\n",
       "    </tr>\n",
       "    <tr>\n",
       "      <th>Barcelona</th>\n",
       "      <td>-0.3504840</td>\n",
       "      <td>1.0339074</td>\n",
       "      <td>0.1122596</td>\n",
       "      <td>0.1141733</td>\n",
       "      <td>999</td>\n",
       "    </tr>\n",
       "    <tr>\n",
       "      <th>Londres</th>\n",
       "      <td>-0.0155836</td>\n",
       "      <td>-0.2651210</td>\n",
       "      <td>-0.0706888</td>\n",
       "      <td>-0.0731536</td>\n",
       "      <td>1</td>\n",
       "    </tr>\n",
       "  </tbody>\n",
       "</table>\n",
       "</div>"
      ],
      "text/plain": [
       "               data1      data2      data3    average  ratio\n",
       "city                                                        \n",
       "Caracas   -0.1050207 -0.8682810  1.7301241  0.2194437      1\n",
       "Maturin    0.4941054  0.0874821 -1.2302921  1.2498431      1\n",
       "Valencia   1.1069204 -1.4387491  1.2218795  0.0301719    999\n",
       "Barcelona -0.3504840  1.0339074  0.1122596  0.1141733    999\n",
       "Londres   -0.0155836 -0.2651210 -0.0706888 -0.0731536      1"
      ]
     },
     "execution_count": 35,
     "metadata": {},
     "output_type": "execute_result"
    },
    {
     "data": {
      "text/html": [
       "<div>\n",
       "<style scoped>\n",
       "    .dataframe tbody tr th:only-of-type {\n",
       "        vertical-align: middle;\n",
       "    }\n",
       "\n",
       "    .dataframe tbody tr th {\n",
       "        vertical-align: top;\n",
       "    }\n",
       "\n",
       "    .dataframe thead th {\n",
       "        text-align: right;\n",
       "    }\n",
       "</style>\n",
       "<table border=\"1\" class=\"dataframe\">\n",
       "  <thead>\n",
       "    <tr style=\"text-align: right;\">\n",
       "      <th></th>\n",
       "      <th>data1</th>\n",
       "      <th>data2</th>\n",
       "      <th>data3</th>\n",
       "      <th>average</th>\n",
       "      <th>ratio</th>\n",
       "    </tr>\n",
       "    <tr>\n",
       "      <th>city</th>\n",
       "      <th></th>\n",
       "      <th></th>\n",
       "      <th></th>\n",
       "      <th></th>\n",
       "      <th></th>\n",
       "    </tr>\n",
       "  </thead>\n",
       "  <tbody>\n",
       "    <tr>\n",
       "      <th>Caracas</th>\n",
       "      <td>-0.1050207</td>\n",
       "      <td>-0.8682810</td>\n",
       "      <td>1.7301241</td>\n",
       "      <td>0.2194437</td>\n",
       "      <td>1.0</td>\n",
       "    </tr>\n",
       "    <tr>\n",
       "      <th>Maturin</th>\n",
       "      <td>0.4941054</td>\n",
       "      <td>0.0874821</td>\n",
       "      <td>-1.2302921</td>\n",
       "      <td>1.2498431</td>\n",
       "      <td>1.0</td>\n",
       "    </tr>\n",
       "    <tr>\n",
       "      <th>Valencia</th>\n",
       "      <td>1.1069204</td>\n",
       "      <td>-1.4387491</td>\n",
       "      <td>1.2218795</td>\n",
       "      <td>0.0301719</td>\n",
       "      <td>NaN</td>\n",
       "    </tr>\n",
       "    <tr>\n",
       "      <th>Barcelona</th>\n",
       "      <td>-0.3504840</td>\n",
       "      <td>1.0339074</td>\n",
       "      <td>0.1122596</td>\n",
       "      <td>0.1141733</td>\n",
       "      <td>NaN</td>\n",
       "    </tr>\n",
       "    <tr>\n",
       "      <th>Londres</th>\n",
       "      <td>-0.0155836</td>\n",
       "      <td>-0.2651210</td>\n",
       "      <td>-0.0706888</td>\n",
       "      <td>-0.0731536</td>\n",
       "      <td>1.0</td>\n",
       "    </tr>\n",
       "  </tbody>\n",
       "</table>\n",
       "</div>"
      ],
      "text/plain": [
       "               data1      data2      data3    average  ratio\n",
       "city                                                        \n",
       "Caracas   -0.1050207 -0.8682810  1.7301241  0.2194437    1.0\n",
       "Maturin    0.4941054  0.0874821 -1.2302921  1.2498431    1.0\n",
       "Valencia   1.1069204 -1.4387491  1.2218795  0.0301719    NaN\n",
       "Barcelona -0.3504840  1.0339074  0.1122596  0.1141733    NaN\n",
       "Londres   -0.0155836 -0.2651210 -0.0706888 -0.0731536    1.0"
      ]
     },
     "execution_count": 35,
     "metadata": {},
     "output_type": "execute_result"
    },
    {
     "data": {
      "text/html": [
       "<div>\n",
       "<style scoped>\n",
       "    .dataframe tbody tr th:only-of-type {\n",
       "        vertical-align: middle;\n",
       "    }\n",
       "\n",
       "    .dataframe tbody tr th {\n",
       "        vertical-align: top;\n",
       "    }\n",
       "\n",
       "    .dataframe thead th {\n",
       "        text-align: right;\n",
       "    }\n",
       "</style>\n",
       "<table border=\"1\" class=\"dataframe\">\n",
       "  <thead>\n",
       "    <tr style=\"text-align: right;\">\n",
       "      <th></th>\n",
       "      <th>data1</th>\n",
       "      <th>data2</th>\n",
       "      <th>data3</th>\n",
       "      <th>average</th>\n",
       "      <th>ratio</th>\n",
       "    </tr>\n",
       "    <tr>\n",
       "      <th>city</th>\n",
       "      <th></th>\n",
       "      <th></th>\n",
       "      <th></th>\n",
       "      <th></th>\n",
       "      <th></th>\n",
       "    </tr>\n",
       "  </thead>\n",
       "  <tbody>\n",
       "    <tr>\n",
       "      <th>Caracas</th>\n",
       "      <td>-0.1050207</td>\n",
       "      <td>-0.8682810</td>\n",
       "      <td>1.7301241</td>\n",
       "      <td>0.2194437</td>\n",
       "      <td>1</td>\n",
       "    </tr>\n",
       "    <tr>\n",
       "      <th>Maturin</th>\n",
       "      <td>0.4941054</td>\n",
       "      <td>0.0874821</td>\n",
       "      <td>-1.2302921</td>\n",
       "      <td>1.2498431</td>\n",
       "      <td>1</td>\n",
       "    </tr>\n",
       "    <tr>\n",
       "      <th>Valencia</th>\n",
       "      <td>1.1069204</td>\n",
       "      <td>-1.4387491</td>\n",
       "      <td>1.2218795</td>\n",
       "      <td>0.0301719</td>\n",
       "      <td>not available</td>\n",
       "    </tr>\n",
       "    <tr>\n",
       "      <th>Barcelona</th>\n",
       "      <td>-0.3504840</td>\n",
       "      <td>1.0339074</td>\n",
       "      <td>0.1122596</td>\n",
       "      <td>0.1141733</td>\n",
       "      <td>not available</td>\n",
       "    </tr>\n",
       "    <tr>\n",
       "      <th>Londres</th>\n",
       "      <td>-0.0155836</td>\n",
       "      <td>-0.2651210</td>\n",
       "      <td>-0.0706888</td>\n",
       "      <td>-0.0731536</td>\n",
       "      <td>1</td>\n",
       "    </tr>\n",
       "  </tbody>\n",
       "</table>\n",
       "</div>"
      ],
      "text/plain": [
       "               data1      data2      data3    average          ratio\n",
       "city                                                                \n",
       "Caracas   -0.1050207 -0.8682810  1.7301241  0.2194437              1\n",
       "Maturin    0.4941054  0.0874821 -1.2302921  1.2498431              1\n",
       "Valencia   1.1069204 -1.4387491  1.2218795  0.0301719  not available\n",
       "Barcelona -0.3504840  1.0339074  0.1122596  0.1141733  not available\n",
       "Londres   -0.0155836 -0.2651210 -0.0706888 -0.0731536              1"
      ]
     },
     "execution_count": 35,
     "metadata": {},
     "output_type": "execute_result"
    }
   ],
   "source": [
    "#replace values with nan values\n",
    "df['ratio']=[1,1,999,999,1]\n",
    "df\n",
    "df.ratio.replace(999,np.nan, inplace = True)\n",
    "df\n",
    "df.ratio.replace(np.nan, 'not available', inplace = True)\n",
    "df"
   ]
  },
  {
   "cell_type": "code",
   "execution_count": 36,
   "metadata": {},
   "outputs": [
    {
     "data": {
      "text/html": [
       "<div>\n",
       "<style scoped>\n",
       "    .dataframe tbody tr th:only-of-type {\n",
       "        vertical-align: middle;\n",
       "    }\n",
       "\n",
       "    .dataframe tbody tr th {\n",
       "        vertical-align: top;\n",
       "    }\n",
       "\n",
       "    .dataframe thead th {\n",
       "        text-align: right;\n",
       "    }\n",
       "</style>\n",
       "<table border=\"1\" class=\"dataframe\">\n",
       "  <thead>\n",
       "    <tr style=\"text-align: right;\">\n",
       "      <th></th>\n",
       "      <th>data1</th>\n",
       "      <th>data2</th>\n",
       "      <th>data3</th>\n",
       "      <th>average</th>\n",
       "      <th>ratio</th>\n",
       "      <th>country</th>\n",
       "    </tr>\n",
       "    <tr>\n",
       "      <th>city</th>\n",
       "      <th></th>\n",
       "      <th></th>\n",
       "      <th></th>\n",
       "      <th></th>\n",
       "      <th></th>\n",
       "      <th></th>\n",
       "    </tr>\n",
       "  </thead>\n",
       "  <tbody>\n",
       "    <tr>\n",
       "      <th>Caracas</th>\n",
       "      <td>-0.1050207</td>\n",
       "      <td>-0.8682810</td>\n",
       "      <td>1.7301241</td>\n",
       "      <td>0.2194437</td>\n",
       "      <td>1</td>\n",
       "      <td>Venezuela</td>\n",
       "    </tr>\n",
       "    <tr>\n",
       "      <th>Maturin</th>\n",
       "      <td>0.4941054</td>\n",
       "      <td>0.0874821</td>\n",
       "      <td>-1.2302921</td>\n",
       "      <td>1.2498431</td>\n",
       "      <td>1</td>\n",
       "      <td>Venezuela</td>\n",
       "    </tr>\n",
       "    <tr>\n",
       "      <th>Valencia</th>\n",
       "      <td>1.1069204</td>\n",
       "      <td>-1.4387491</td>\n",
       "      <td>1.2218795</td>\n",
       "      <td>0.0301719</td>\n",
       "      <td>not available</td>\n",
       "      <td>Spain</td>\n",
       "    </tr>\n",
       "    <tr>\n",
       "      <th>Barcelona</th>\n",
       "      <td>-0.3504840</td>\n",
       "      <td>1.0339074</td>\n",
       "      <td>0.1122596</td>\n",
       "      <td>0.1141733</td>\n",
       "      <td>not available</td>\n",
       "      <td>Spain</td>\n",
       "    </tr>\n",
       "    <tr>\n",
       "      <th>Londres</th>\n",
       "      <td>-0.0155836</td>\n",
       "      <td>-0.2651210</td>\n",
       "      <td>-0.0706888</td>\n",
       "      <td>-0.0731536</td>\n",
       "      <td>1</td>\n",
       "      <td>England</td>\n",
       "    </tr>\n",
       "  </tbody>\n",
       "</table>\n",
       "</div>"
      ],
      "text/plain": [
       "               data1      data2      data3    average          ratio  \\\n",
       "city                                                                   \n",
       "Caracas   -0.1050207 -0.8682810  1.7301241  0.2194437              1   \n",
       "Maturin    0.4941054  0.0874821 -1.2302921  1.2498431              1   \n",
       "Valencia   1.1069204 -1.4387491  1.2218795  0.0301719  not available   \n",
       "Barcelona -0.3504840  1.0339074  0.1122596  0.1141733  not available   \n",
       "Londres   -0.0155836 -0.2651210 -0.0706888 -0.0731536              1   \n",
       "\n",
       "             country  \n",
       "city                  \n",
       "Caracas    Venezuela  \n",
       "Maturin    Venezuela  \n",
       "Valencia       Spain  \n",
       "Barcelona      Spain  \n",
       "Londres      England  "
      ]
     },
     "execution_count": 36,
     "metadata": {},
     "output_type": "execute_result"
    }
   ],
   "source": [
    "#vlookup with map\n",
    "city_to_country = {\n",
    "'Caracas': 'Venezuela',\n",
    "'Valencia': 'Spain',\n",
    "'Londres': 'England',\n",
    "'Maturin': 'Venezuela',\n",
    "'Barcelona': 'Spain',\n",
    "'Milan': 'Italy'\n",
    "}\n",
    "df.reset_index(inplace = True)\n",
    "df['country']=df['city'].map(city_to_country)\n",
    "df.set_index('city', inplace = True)\n",
    "df\n"
   ]
  },
  {
   "cell_type": "code",
   "execution_count": 37,
   "metadata": {},
   "outputs": [
    {
     "data": {
      "text/html": [
       "<div>\n",
       "<style scoped>\n",
       "    .dataframe tbody tr th:only-of-type {\n",
       "        vertical-align: middle;\n",
       "    }\n",
       "\n",
       "    .dataframe tbody tr th {\n",
       "        vertical-align: top;\n",
       "    }\n",
       "\n",
       "    .dataframe thead th {\n",
       "        text-align: right;\n",
       "    }\n",
       "</style>\n",
       "<table border=\"1\" class=\"dataframe\">\n",
       "  <thead>\n",
       "    <tr style=\"text-align: right;\">\n",
       "      <th></th>\n",
       "      <th>city</th>\n",
       "      <th>data1</th>\n",
       "      <th>data2</th>\n",
       "      <th>data3</th>\n",
       "      <th>average</th>\n",
       "      <th>ratio</th>\n",
       "      <th>country</th>\n",
       "    </tr>\n",
       "  </thead>\n",
       "  <tbody>\n",
       "    <tr>\n",
       "      <th>0</th>\n",
       "      <td>Caracas</td>\n",
       "      <td>-0.1050207</td>\n",
       "      <td>-0.8682810</td>\n",
       "      <td>1.7301241</td>\n",
       "      <td>0.2194437</td>\n",
       "      <td>1</td>\n",
       "      <td>Venezuela</td>\n",
       "    </tr>\n",
       "    <tr>\n",
       "      <th>1</th>\n",
       "      <td>Maturin</td>\n",
       "      <td>0.4941054</td>\n",
       "      <td>0.0874821</td>\n",
       "      <td>-1.2302921</td>\n",
       "      <td>1.2498431</td>\n",
       "      <td>1</td>\n",
       "      <td>Venezuela</td>\n",
       "    </tr>\n",
       "    <tr>\n",
       "      <th>2</th>\n",
       "      <td>Valencia</td>\n",
       "      <td>1.1069204</td>\n",
       "      <td>-1.4387491</td>\n",
       "      <td>1.2218795</td>\n",
       "      <td>0.0301719</td>\n",
       "      <td>not available</td>\n",
       "      <td>Spain</td>\n",
       "    </tr>\n",
       "    <tr>\n",
       "      <th>3</th>\n",
       "      <td>Barcelona</td>\n",
       "      <td>-0.3504840</td>\n",
       "      <td>1.0339074</td>\n",
       "      <td>0.1122596</td>\n",
       "      <td>0.1141733</td>\n",
       "      <td>not available</td>\n",
       "      <td>Spain</td>\n",
       "    </tr>\n",
       "    <tr>\n",
       "      <th>4</th>\n",
       "      <td>Londres</td>\n",
       "      <td>-0.0155836</td>\n",
       "      <td>-0.2651210</td>\n",
       "      <td>-0.0706888</td>\n",
       "      <td>-0.0731536</td>\n",
       "      <td>1</td>\n",
       "      <td>England</td>\n",
       "    </tr>\n",
       "  </tbody>\n",
       "</table>\n",
       "</div>"
      ],
      "text/plain": [
       "        city      data1      data2      data3    average          ratio  \\\n",
       "0    Caracas -0.1050207 -0.8682810  1.7301241  0.2194437              1   \n",
       "1    Maturin  0.4941054  0.0874821 -1.2302921  1.2498431              1   \n",
       "2   Valencia  1.1069204 -1.4387491  1.2218795  0.0301719  not available   \n",
       "3  Barcelona -0.3504840  1.0339074  0.1122596  0.1141733  not available   \n",
       "4    Londres -0.0155836 -0.2651210 -0.0706888 -0.0731536              1   \n",
       "\n",
       "     country  \n",
       "0  Venezuela  \n",
       "1  Venezuela  \n",
       "2      Spain  \n",
       "3      Spain  \n",
       "4    England  "
      ]
     },
     "execution_count": 37,
     "metadata": {},
     "output_type": "execute_result"
    },
    {
     "data": {
      "text/html": [
       "<div>\n",
       "<style scoped>\n",
       "    .dataframe tbody tr th:only-of-type {\n",
       "        vertical-align: middle;\n",
       "    }\n",
       "\n",
       "    .dataframe tbody tr th {\n",
       "        vertical-align: top;\n",
       "    }\n",
       "\n",
       "    .dataframe thead th {\n",
       "        text-align: right;\n",
       "    }\n",
       "</style>\n",
       "<table border=\"1\" class=\"dataframe\">\n",
       "  <thead>\n",
       "    <tr style=\"text-align: right;\">\n",
       "      <th></th>\n",
       "      <th></th>\n",
       "      <th>data1</th>\n",
       "      <th>data2</th>\n",
       "      <th>data3</th>\n",
       "      <th>average</th>\n",
       "    </tr>\n",
       "    <tr>\n",
       "      <th>country</th>\n",
       "      <th>city</th>\n",
       "      <th></th>\n",
       "      <th></th>\n",
       "      <th></th>\n",
       "      <th></th>\n",
       "    </tr>\n",
       "  </thead>\n",
       "  <tbody>\n",
       "    <tr>\n",
       "      <th>England</th>\n",
       "      <th>Londres</th>\n",
       "      <td>-0.0155836</td>\n",
       "      <td>-0.2651210</td>\n",
       "      <td>-0.0706888</td>\n",
       "      <td>-0.0731536</td>\n",
       "    </tr>\n",
       "    <tr>\n",
       "      <th rowspan=\"2\" valign=\"top\">Spain</th>\n",
       "      <th>Barcelona</th>\n",
       "      <td>-0.3504840</td>\n",
       "      <td>1.0339074</td>\n",
       "      <td>0.1122596</td>\n",
       "      <td>0.1141733</td>\n",
       "    </tr>\n",
       "    <tr>\n",
       "      <th>Valencia</th>\n",
       "      <td>1.1069204</td>\n",
       "      <td>-1.4387491</td>\n",
       "      <td>1.2218795</td>\n",
       "      <td>0.0301719</td>\n",
       "    </tr>\n",
       "    <tr>\n",
       "      <th rowspan=\"2\" valign=\"top\">Venezuela</th>\n",
       "      <th>Caracas</th>\n",
       "      <td>-0.1050207</td>\n",
       "      <td>-0.8682810</td>\n",
       "      <td>1.7301241</td>\n",
       "      <td>0.2194437</td>\n",
       "    </tr>\n",
       "    <tr>\n",
       "      <th>Maturin</th>\n",
       "      <td>0.4941054</td>\n",
       "      <td>0.0874821</td>\n",
       "      <td>-1.2302921</td>\n",
       "      <td>1.2498431</td>\n",
       "    </tr>\n",
       "  </tbody>\n",
       "</table>\n",
       "</div>"
      ],
      "text/plain": [
       "                         data1      data2      data3    average\n",
       "country   city                                                 \n",
       "England   Londres   -0.0155836 -0.2651210 -0.0706888 -0.0731536\n",
       "Spain     Barcelona -0.3504840  1.0339074  0.1122596  0.1141733\n",
       "          Valencia   1.1069204 -1.4387491  1.2218795  0.0301719\n",
       "Venezuela Caracas   -0.1050207 -0.8682810  1.7301241  0.2194437\n",
       "          Maturin    0.4941054  0.0874821 -1.2302921  1.2498431"
      ]
     },
     "execution_count": 37,
     "metadata": {},
     "output_type": "execute_result"
    },
    {
     "data": {
      "text/html": [
       "<div>\n",
       "<style scoped>\n",
       "    .dataframe tbody tr th:only-of-type {\n",
       "        vertical-align: middle;\n",
       "    }\n",
       "\n",
       "    .dataframe tbody tr th {\n",
       "        vertical-align: top;\n",
       "    }\n",
       "\n",
       "    .dataframe thead th {\n",
       "        text-align: right;\n",
       "    }\n",
       "</style>\n",
       "<table border=\"1\" class=\"dataframe\">\n",
       "  <thead>\n",
       "    <tr style=\"text-align: right;\">\n",
       "      <th></th>\n",
       "      <th></th>\n",
       "      <th>average</th>\n",
       "      <th>data1</th>\n",
       "      <th>data2</th>\n",
       "      <th>data3</th>\n",
       "      <th>ratio</th>\n",
       "    </tr>\n",
       "    <tr>\n",
       "      <th>country</th>\n",
       "      <th>city</th>\n",
       "      <th></th>\n",
       "      <th></th>\n",
       "      <th></th>\n",
       "      <th></th>\n",
       "      <th></th>\n",
       "    </tr>\n",
       "  </thead>\n",
       "  <tbody>\n",
       "    <tr>\n",
       "      <th rowspan=\"2\" valign=\"top\">England</th>\n",
       "      <th>Londres</th>\n",
       "      <td>-0.0731536</td>\n",
       "      <td>-0.0155836</td>\n",
       "      <td>-0.2651210</td>\n",
       "      <td>-0.0706888</td>\n",
       "      <td>1</td>\n",
       "    </tr>\n",
       "    <tr>\n",
       "      <th>total</th>\n",
       "      <td>-0.0731536</td>\n",
       "      <td>-0.0155836</td>\n",
       "      <td>-0.2651210</td>\n",
       "      <td>-0.0706888</td>\n",
       "      <td>total</td>\n",
       "    </tr>\n",
       "    <tr>\n",
       "      <th rowspan=\"3\" valign=\"top\">Spain</th>\n",
       "      <th>Barcelona</th>\n",
       "      <td>0.1141733</td>\n",
       "      <td>-0.3504840</td>\n",
       "      <td>1.0339074</td>\n",
       "      <td>0.1122596</td>\n",
       "      <td>not available</td>\n",
       "    </tr>\n",
       "    <tr>\n",
       "      <th>Valencia</th>\n",
       "      <td>0.0301719</td>\n",
       "      <td>1.1069204</td>\n",
       "      <td>-1.4387491</td>\n",
       "      <td>1.2218795</td>\n",
       "      <td>not available</td>\n",
       "    </tr>\n",
       "    <tr>\n",
       "      <th>total</th>\n",
       "      <td>0.1443453</td>\n",
       "      <td>0.7564364</td>\n",
       "      <td>-0.4048416</td>\n",
       "      <td>1.3341391</td>\n",
       "      <td>total</td>\n",
       "    </tr>\n",
       "    <tr>\n",
       "      <th rowspan=\"3\" valign=\"top\">Venezuela</th>\n",
       "      <th>Caracas</th>\n",
       "      <td>0.2194437</td>\n",
       "      <td>-0.1050207</td>\n",
       "      <td>-0.8682810</td>\n",
       "      <td>1.7301241</td>\n",
       "      <td>1</td>\n",
       "    </tr>\n",
       "    <tr>\n",
       "      <th>Maturin</th>\n",
       "      <td>1.2498431</td>\n",
       "      <td>0.4941054</td>\n",
       "      <td>0.0874821</td>\n",
       "      <td>-1.2302921</td>\n",
       "      <td>1</td>\n",
       "    </tr>\n",
       "    <tr>\n",
       "      <th>total</th>\n",
       "      <td>1.4692868</td>\n",
       "      <td>0.3890847</td>\n",
       "      <td>-0.7807990</td>\n",
       "      <td>0.4998320</td>\n",
       "      <td>total</td>\n",
       "    </tr>\n",
       "  </tbody>\n",
       "</table>\n",
       "</div>"
      ],
      "text/plain": [
       "                       average      data1      data2      data3          ratio\n",
       "country   city                                                                \n",
       "England   Londres   -0.0731536 -0.0155836 -0.2651210 -0.0706888              1\n",
       "          total     -0.0731536 -0.0155836 -0.2651210 -0.0706888          total\n",
       "Spain     Barcelona  0.1141733 -0.3504840  1.0339074  0.1122596  not available\n",
       "          Valencia   0.0301719  1.1069204 -1.4387491  1.2218795  not available\n",
       "          total      0.1443453  0.7564364 -0.4048416  1.3341391          total\n",
       "Venezuela Caracas    0.2194437 -0.1050207 -0.8682810  1.7301241              1\n",
       "          Maturin    1.2498431  0.4941054  0.0874821 -1.2302921              1\n",
       "          total      1.4692868  0.3890847 -0.7807990  0.4998320          total"
      ]
     },
     "execution_count": 37,
     "metadata": {},
     "output_type": "execute_result"
    }
   ],
   "source": [
    "df2 = df.copy()\n",
    "df2.reset_index()\n",
    "df2.groupby(['country','city']).sum()\n",
    "total = df2.groupby('country').sum()\n",
    "total.index = \"Total \" + total.index\n",
    "#final = pd.concat(df2.reset_index().groupby(['country','city']).sum().reset_index(), total)\n",
    "pd.concat((df2.reset_index(),\n",
    "                 df2.reset_index().groupby(['country']).aggregate('sum').reset_index())).\\\n",
    "                      sort_values(['country','city']).\\\n",
    "                      fillna('total').\\\n",
    "                      set_index(['country','city'])"
   ]
  },
  {
   "cell_type": "markdown",
   "metadata": {},
   "source": [
    "### Convert Python dict into a dataframe and then comeback to a dicitionay (tag: zip, to_dict)"
   ]
  },
  {
   "cell_type": "code",
   "execution_count": 95,
   "metadata": {},
   "outputs": [
    {
     "data": {
      "text/html": [
       "<div>\n",
       "<style scoped>\n",
       "    .dataframe tbody tr th:only-of-type {\n",
       "        vertical-align: middle;\n",
       "    }\n",
       "\n",
       "    .dataframe tbody tr th {\n",
       "        vertical-align: top;\n",
       "    }\n",
       "\n",
       "    .dataframe thead th {\n",
       "        text-align: right;\n",
       "    }\n",
       "</style>\n",
       "<table border=\"1\" class=\"dataframe\">\n",
       "  <thead>\n",
       "    <tr style=\"text-align: right;\">\n",
       "      <th></th>\n",
       "      <th>country</th>\n",
       "    </tr>\n",
       "    <tr>\n",
       "      <th>city</th>\n",
       "      <th></th>\n",
       "    </tr>\n",
       "  </thead>\n",
       "  <tbody>\n",
       "    <tr>\n",
       "      <th>Caracas</th>\n",
       "      <td>Venezuela</td>\n",
       "    </tr>\n",
       "    <tr>\n",
       "      <th>Valencia</th>\n",
       "      <td>Spain</td>\n",
       "    </tr>\n",
       "    <tr>\n",
       "      <th>Londres</th>\n",
       "      <td>England</td>\n",
       "    </tr>\n",
       "    <tr>\n",
       "      <th>Maturin</th>\n",
       "      <td>Venezuela</td>\n",
       "    </tr>\n",
       "    <tr>\n",
       "      <th>Barcelona</th>\n",
       "      <td>Spain</td>\n",
       "    </tr>\n",
       "    <tr>\n",
       "      <th>Milan</th>\n",
       "      <td>Italy</td>\n",
       "    </tr>\n",
       "  </tbody>\n",
       "</table>\n",
       "</div>"
      ],
      "text/plain": [
       "             country\n",
       "city                \n",
       "Caracas    Venezuela\n",
       "Valencia       Spain\n",
       "Londres      England\n",
       "Maturin    Venezuela\n",
       "Barcelona      Spain\n",
       "Milan          Italy"
      ]
     },
     "execution_count": 95,
     "metadata": {},
     "output_type": "execute_result"
    },
    {
     "data": {
      "text/plain": [
       "{'city': ['Caracas', 'Valencia', 'Londres', 'Maturin', 'Barcelona', 'Milan'],\n",
       " 'country': ['Venezuela', 'Spain', 'England', 'Venezuela', 'Spain', 'Italy']}"
      ]
     },
     "execution_count": 95,
     "metadata": {},
     "output_type": "execute_result"
    }
   ],
   "source": [
    "city_to_country = {\n",
    "'Caracas': 'Venezuela',\n",
    "'Valencia': 'Spain',\n",
    "'Londres': 'England',\n",
    "'Maturin': 'Venezuela',\n",
    "'Barcelona': 'Spain',\n",
    "'Milan': 'Italy'}\n",
    "ctcdf = pd.DataFrame(list(city_to_country.items()), columns = ['city','country'])\n",
    "ctcdf.set_index('city')\n",
    "dizio = ctcdf.to_dict('list')\n",
    "dizio"
   ]
  },
  {
   "cell_type": "code",
   "execution_count": 96,
   "metadata": {},
   "outputs": [
    {
     "data": {
      "text/plain": [
       "{'Barcelona': 'Spain',\n",
       " 'Caracas': 'Venezuela',\n",
       " 'Londres': 'England',\n",
       " 'Maturin': 'Venezuela',\n",
       " 'Milan': 'Italy',\n",
       " 'Valencia': 'Spain'}"
      ]
     },
     "execution_count": 96,
     "metadata": {},
     "output_type": "execute_result"
    },
    {
     "data": {
      "text/plain": [
       "{'Barcelona': 'Spain',\n",
       " 'Caracas': 'Venezuela',\n",
       " 'Londres': 'England',\n",
       " 'Maturin': 'Venezuela',\n",
       " 'Milan': 'Italy',\n",
       " 'Valencia': 'Spain'}"
      ]
     },
     "execution_count": 96,
     "metadata": {},
     "output_type": "execute_result"
    }
   ],
   "source": [
    "dizio = dict(zip(dizio['city'], dizio['country']))\n",
    "dizio\n",
    "city_to_country"
   ]
  },
  {
   "cell_type": "markdown",
   "metadata": {},
   "source": [
    "### Calculating Boolean Statistics"
   ]
  },
  {
   "cell_type": "code",
   "execution_count": null,
   "metadata": {},
   "outputs": [],
   "source": [
    "print(\"Filtering in function of values (one condition)\")\n",
    "\n",
    "m120 = movie.duration.dropna().gt(120)\n",
    "m120.head()\n",
    "print(\"1. lenght and count\")\n",
    "m120.count()\n",
    "len(m120)\n",
    "print(\"2. basic statistics\")\n",
    "m120.sum()\n",
    "m120.mean()\n",
    "print(\"3. value_counts() & describe\")\n",
    "m120.value_counts()\n",
    "m120.value_counts(normalize = True)\n",
    "m120.describe()"
   ]
  },
  {
   "cell_type": "markdown",
   "metadata": {},
   "source": [
    "### Multiple Boolean Conditions"
   ]
  },
  {
   "cell_type": "code",
   "execution_count": null,
   "metadata": {},
   "outputs": [],
   "source": [
    "movie = pd.read_csv('master/movie.csv', index_col='movie_title')\n",
    "#Criteria A (multiple conditions)\n",
    "print(\"Criteria A\")\n",
    "crit_a1 = movie.imdb_score > 8\n",
    "crit_a2 = movie.content_rating == 'PG-13'\n",
    "crit_a3 = (movie.title_year < 2000) | (movie.title_year > 2009)\n",
    "final_crit_a = crit_a1 & crit_a2 & crit_a3\n",
    "final_crit_a.value_counts(normalize = True)\n",
    "final_crit_a.value_counts()\n",
    "\n",
    "#Criteria B (multiple conditions)\n",
    "print(\"Criteria B\")\n",
    "crit_b1 = movie.imdb_score >8\n",
    "crit_b2 = movie.content_rating == 'R'\n",
    "crit_b3 = (movie.title_year >= 2000) & (movie.title_year <= 2010)\n",
    "final_crit_b = crit_b1 & crit_b2 & crit_b3\n",
    "final_crit_b.value_counts(normalize = True)\n",
    "final_crit_b.value_counts()\n",
    "\n",
    "print(\"Final criteria\")\n",
    "final_crit_all = final_crit_a | final_crit_b\n",
    "final_crit_all.value_counts(normalize = True)\n",
    "final_crit_all.value_counts()\n",
    "\n",
    "print(\"Final Result:\")\n",
    "cols = ['imdb_score', 'content_rating', 'title_year']\n",
    "movie_filtered = movie.loc[final_crit_all, cols]\n",
    "movie_filtered.head(10)"
   ]
  },
  {
   "cell_type": "markdown",
   "metadata": {},
   "source": [
    "### Filtering (boolean vs loc method)"
   ]
  },
  {
   "cell_type": "code",
   "execution_count": null,
   "metadata": {},
   "outputs": [],
   "source": [
    "movie= pd.read_csv('master/movie.csv')\n",
    "%timeit movie[movie.country == 'USA']\n",
    "movie2 = movie.set_index('country')\n",
    "%timeit movie2.loc['USA']\n",
    "print(\"Index filtering with loc is always faster\")"
   ]
  },
  {
   "cell_type": "markdown",
   "metadata": {},
   "source": [
    "### Masking DataFrame rows"
   ]
  },
  {
   "cell_type": "code",
   "execution_count": null,
   "metadata": {},
   "outputs": [],
   "source": [
    "movie = pd.read_csv('master/movie.csv', index_col='movie_title')\n",
    "c1 = movie['title_year'] >= 2010\n",
    "c2 = movie['title_year'].isnull()\n",
    "criteria = c1 | c2\n",
    "\n",
    "#movie.mask(criteria).head() #hide the criteria\n",
    "movie.mask(~criteria).head() #complement to criteria\n",
    "movie_c = movie.mask(criteria).append(movie.mask(~criteria))\n",
    "set(movie) == set (movie_c)"
   ]
  },
  {
   "cell_type": "markdown",
   "metadata": {},
   "source": [
    "### Group by"
   ]
  },
  {
   "cell_type": "code",
   "execution_count": null,
   "metadata": {
    "scrolled": false
   },
   "outputs": [],
   "source": [
    "college = pd.read_csv('master/college.csv', index_col='INSTNM')\n",
    "college_ugds_= college.filter(like='UGDS').copy()\n",
    "\n",
    "college_ugds_['City']=college['CITY']\n",
    "\n",
    "college_ugds_.groupby(['City','INSTNM']).sum()"
   ]
  },
  {
   "cell_type": "code",
   "execution_count": null,
   "metadata": {},
   "outputs": [],
   "source": [
    "#Other example\n",
    "# For each origin to destination flight, find the total number of flights, \n",
    "# the number and percentage of cancelled flights and the average and variance of the airtime. \n",
    "flights = pd.read_csv('master/flights.csv')\n",
    "group_cols = ['ORG_AIR', 'DEST_AIR']\n",
    "agg_dict = {'CANCELLED':['sum', 'mean', 'size'], \n",
    "            'AIR_TIME':['mean', 'var']}\n",
    "flights.groupby(group_cols).agg(agg_dict).head()\n",
    "# flights.groupby(['ORG_AIR', 'DEST_AIR']).agg({'CANCELLED': ['sum', 'mean', 'size'], \n",
    "#                                               'AIR_TIME':['mean', 'var']}).head()"
   ]
  },
  {
   "cell_type": "markdown",
   "metadata": {},
   "source": [
    "### Removing the MultiIndex after grouping"
   ]
  },
  {
   "cell_type": "code",
   "execution_count": null,
   "metadata": {},
   "outputs": [],
   "source": [
    "flights = pd.read_csv('master/flights.csv')\n",
    "flights.head()\n",
    "airline_info = flights.groupby(['AIRLINE', 'WEEKDAY'])\\\n",
    "                      .agg({'DIST':['sum', 'mean'], \n",
    "                                    'ARR_DELAY':['min', 'max']}).astype(int)\n",
    "airline_info.head()\n",
    "level0 = airline_info.columns.get_level_values(0)\n",
    "level0\n",
    "level1 = airline_info.columns.get_level_values(1)\n",
    "level1\n",
    "airline_info.columns = level0 + '_' + level1\n",
    "airline_info.reset_index().head(7)"
   ]
  },
  {
   "cell_type": "markdown",
   "metadata": {},
   "source": [
    "### Customizing an aggregation function and changing the label of the function"
   ]
  },
  {
   "cell_type": "code",
   "execution_count": null,
   "metadata": {},
   "outputs": [],
   "source": [
    "college = pd.read_csv('master/college.csv')\n",
    "college.groupby('STABBR')['UGDS'].agg(['mean', 'std']).round(0).head()"
   ]
  },
  {
   "cell_type": "code",
   "execution_count": null,
   "metadata": {},
   "outputs": [],
   "source": [
    "def max_deviation(s):\n",
    "    std_score = (s - s.mean()) / s.std()\n",
    "    return std_score.abs().max()"
   ]
  },
  {
   "cell_type": "code",
   "execution_count": null,
   "metadata": {},
   "outputs": [],
   "source": [
    "college.groupby(['STABBR', 'RELAFFIL'])['UGDS', 'SATVRMID', 'SATMTMID']\\\n",
    "       .agg([max_deviation, 'mean', 'std']).round(1).head()\n",
    "max_deviation.__name__\n",
    "max_deviation.__name__ = 'Max Deviation'\n",
    "college.groupby(['STABBR', 'RELAFFIL'])['UGDS', 'SATVRMID', 'SATMTMID']\\\n",
    "       .agg([max_deviation, 'mean', 'std']).round(1).head()"
   ]
  },
  {
   "cell_type": "code",
   "execution_count": null,
   "metadata": {},
   "outputs": [],
   "source": []
  },
  {
   "cell_type": "code",
   "execution_count": null,
   "metadata": {},
   "outputs": [],
   "source": []
  },
  {
   "cell_type": "markdown",
   "metadata": {},
   "source": [
    "### Preserving Series with the where method"
   ]
  },
  {
   "cell_type": "code",
   "execution_count": null,
   "metadata": {},
   "outputs": [],
   "source": [
    "movie = pd.read_csv('master/movie.csv', index_col='movie_title')\n",
    "fb_likes = movie['actor_1_facebook_likes'].dropna()\n",
    "fb_likes.head()\n",
    "\n",
    "fb_likes.describe(percentiles=[.1, .25, .5, .75, .9]).astype(int)\n",
    "\n",
    "fb_likes.describe(percentiles=[.1,.25,.5,.75,.9])\n",
    "\n",
    "fb_likes.hist()\n",
    "\n",
    "criteria_high = fb_likes < 20000\n",
    "criteria_high.mean().round(2)\n",
    "\n",
    "fb_likes.where(criteria_high).head()\n",
    "\n",
    "fb_likes.where(criteria_high, other=20000).head()"
   ]
  },
  {
   "cell_type": "markdown",
   "metadata": {},
   "source": [
    "### Appending Columns from different DataFrames (like vlookup)"
   ]
  },
  {
   "cell_type": "code",
   "execution_count": null,
   "metadata": {},
   "outputs": [],
   "source": [
    "employee = pd.read_csv('master/employee.csv')\n",
    "#select the DEPARTMENT and BASE_SALARY columns in a new DataFrame:\n",
    "dept_sal = employee[['DEPARTMENT', 'BASE_SALARY']]\n",
    "dept_sal.head()\n",
    "\n",
    "#Sort this smaller DataFrame by salary within each department\n",
    "dept_sal = dept_sal.sort_values(['DEPARTMENT', 'BASE_SALARY'],\n",
    "                                ascending=[True, False])\n",
    "dept_sal.head()\n",
    "\n",
    "#Use the drop_duplicates method to keep the first row of each DEPARTMENT:\n",
    "max_dept_sal = dept_sal.drop_duplicates(subset='DEPARTMENT')\n",
    "max_dept_sal.head()\n",
    "\n",
    "#Put the DEPARTMENT column into the index for each DataFrames\n",
    "max_dept_sal = max_dept_sal.set_index('DEPARTMENT')\n",
    "employee = employee.set_index('DEPARTMENT')\n",
    "\n",
    "\n",
    "#Now that the indexes contain matching values, we can append a new column to the employee DataFrame:\n",
    "employee['MAX_DEPT_SALARY'] = max_dept_sal['BASE_SALARY']\n",
    "employee.head()\n"
   ]
  },
  {
   "cell_type": "code",
   "execution_count": null,
   "metadata": {},
   "outputs": [],
   "source": [
    "max_dept_sal.size\n",
    "employee.shape"
   ]
  },
  {
   "cell_type": "markdown",
   "metadata": {},
   "source": [
    "# List & Dictionaries\n",
    "[back to Start](#Content)"
   ]
  },
  {
   "cell_type": "markdown",
   "metadata": {},
   "source": [
    "## Lists"
   ]
  },
  {
   "cell_type": "code",
   "execution_count": null,
   "metadata": {},
   "outputs": [],
   "source": [
    "list1 = ['physics', 'chemistry', 1997, 2000];\n",
    "list2 = [1, 2, 3, 4, 5 ];\n",
    "list3 = [\"a\", \"b\", \"c\", \"d\"]\n",
    "list1[0]\n",
    "list2[1:5]\n",
    "list3\n",
    "list2[2]= 2001\n",
    "list2\n",
    "list1.append(1979)\n",
    "del list1[:2]\n",
    "list1\n",
    "list1 + list2"
   ]
  },
  {
   "cell_type": "code",
   "execution_count": null,
   "metadata": {},
   "outputs": [],
   "source": [
    "#List membership\n",
    "1979 in (list1+list2)\n",
    "900 in (list1+list2)"
   ]
  },
  {
   "cell_type": "code",
   "execution_count": null,
   "metadata": {},
   "outputs": [],
   "source": [
    "i= 0\n",
    "list4b=[]\n",
    "list4a = [1,2,3,4,5,6,7,8,9]\n",
    "for x in list4a:\n",
    "    list4b.append(x**2)\n",
    "    i+=1\n",
    "\n",
    "list4a\n",
    "list4b"
   ]
  },
  {
   "cell_type": "code",
   "execution_count": null,
   "metadata": {},
   "outputs": [],
   "source": [
    "colors = [\"red\", \"green\", \"blue\", \"purple\"]\n",
    "i = 0\n",
    "while i < len(colors):\n",
    "    print(colors[i])\n",
    "    i += 1"
   ]
  },
  {
   "cell_type": "code",
   "execution_count": null,
   "metadata": {},
   "outputs": [],
   "source": [
    "colors = [\"red\", \"green\", \"blue\", \"purple\"]\n",
    "for i in range(len(colors)):\n",
    "    print(colors[i])"
   ]
  },
  {
   "cell_type": "code",
   "execution_count": null,
   "metadata": {},
   "outputs": [],
   "source": [
    "presidents = [\"Washington\", \"Adams\", \"Jefferson\", \"Madison\", \"Monroe\", \"Adams\", \"Jackson\"]\n",
    "for num, name in enumerate(presidents, start=1):\n",
    "    print(\"President {}: {}\".format(num, name))"
   ]
  },
  {
   "cell_type": "code",
   "execution_count": null,
   "metadata": {},
   "outputs": [],
   "source": [
    "colors = [\"red\", \"green\", \"blue\", \"purple\"]\n",
    "ratios = [0.2, 0.3, 0.1, 0.4]\n",
    "for i, color in enumerate(colors):\n",
    "    ratio = ratios[i]\n",
    "    print(\"{}% {}\".format(ratio * 100, color))"
   ]
  },
  {
   "cell_type": "code",
   "execution_count": null,
   "metadata": {},
   "outputs": [],
   "source": [
    "for color, ratio in zip(colors, ratios):\n",
    "    print(\"{}% {}\".format(ratio * 100, color))"
   ]
  },
  {
   "cell_type": "code",
   "execution_count": null,
   "metadata": {},
   "outputs": [],
   "source": [
    "col_rat = zip(colors, ratios)\n",
    "col_rat"
   ]
  },
  {
   "cell_type": "code",
   "execution_count": null,
   "metadata": {},
   "outputs": [],
   "source": [
    "a = input(\"Enter a name: \")\n",
    "print(a)"
   ]
  },
  {
   "cell_type": "code",
   "execution_count": null,
   "metadata": {},
   "outputs": [],
   "source": [
    "#compare lists\n",
    "a = [1, 2, 3, 4, 5]\n",
    "b = [1, 8, 5, 6, 0, 2,4]\n",
    "set(a) & set(b)\n",
    "#comparing one by one\n",
    "[i for i, j in zip(a, b) if i == j]"
   ]
  },
  {
   "cell_type": "code",
   "execution_count": null,
   "metadata": {},
   "outputs": [],
   "source": [
    "def double_stuff(a_list):\n",
    "    \"\"\" Overwrite each element in a_list with double its value. \"\"\"\n",
    "    for (idx, val) in enumerate(a_list):\n",
    "        a_list[idx] = 2 * val"
   ]
  },
  {
   "cell_type": "code",
   "execution_count": null,
   "metadata": {},
   "outputs": [],
   "source": [
    "list4a = [1,2,3,4,5,6,7,8,9]\n",
    "double_stuff(list4a)\n",
    "list4a\n",
    "list4a.reverse()\n",
    "list4a.sort()"
   ]
  },
  {
   "cell_type": "markdown",
   "metadata": {},
   "source": [
    "# Excel Operations, Pivots, Vlookup\n",
    "[back to Start](#Content)"
   ]
  },
  {
   "cell_type": "code",
   "execution_count": null,
   "metadata": {},
   "outputs": [],
   "source": []
  },
  {
   "cell_type": "markdown",
   "metadata": {},
   "source": [
    "# Plots & Graphs\n",
    "[back to Start](#Content)"
   ]
  },
  {
   "cell_type": "code",
   "execution_count": null,
   "metadata": {},
   "outputs": [],
   "source": []
  },
  {
   "cell_type": "markdown",
   "metadata": {},
   "source": [
    "# Others\n",
    "[back to Start](#Content)"
   ]
  },
  {
   "cell_type": "markdown",
   "metadata": {},
   "source": [
    "## Explicit Operations"
   ]
  },
  {
   "cell_type": "code",
   "execution_count": null,
   "metadata": {},
   "outputs": [],
   "source": [
    "movie = pd.read_csv('master/movie.csv')\n",
    "imdb_score = movie['imdb_score']\n",
    "imdb_score.add(1)              # imdb_score + 1\n",
    "\n",
    "imdb_score.mul(2.5)            # imdb_score * 2.5\n",
    "\n",
    "imdb_score.floordiv(7)         # imdb_score // 7\n",
    "\n",
    "imdb_score.gt(7)               # imdb_score > 7\n",
    "\n",
    "director.eq('James Cameron')   # director == 'James Cameron'"
   ]
  },
  {
   "cell_type": "markdown",
   "metadata": {},
   "source": [
    "## Improving readability of boolean indexing with the query method"
   ]
  },
  {
   "cell_type": "code",
   "execution_count": null,
   "metadata": {},
   "outputs": [],
   "source": [
    "employee = pd.read_csv('master/employee.csv')\n",
    "depts = ['Houston Police Department-HPD', 'Houston Fire Department (HFD)']\n",
    "select_columns = ['UNIQUE_ID', 'DEPARTMENT', 'GENDER', 'BASE_SALARY']\n",
    "\n",
    "\n",
    "qs = \"DEPARTMENT in @depts \" \\\n",
    "         \"and GENDER == 'Female' \" \\\n",
    "         \"and 80000 <= BASE_SALARY <= 120000\"\n",
    "        \n",
    "emp_filtered = employee.query(qs)\n",
    "emp_filtered[select_columns].head()\n",
    "\n",
    "top10_depts = employee.DEPARTMENT.value_counts().index[:10].tolist()\n",
    "qs = \"DEPARTMENT not in @top10_depts and GENDER == 'Female'\"\n",
    "employee_filtered2 = employee.query(qs)\n",
    "employee_filtered2[['DEPARTMENT', 'GENDER']].head()"
   ]
  },
  {
   "cell_type": "markdown",
   "metadata": {},
   "source": [
    "### Converting data row by row"
   ]
  },
  {
   "cell_type": "code",
   "execution_count": null,
   "metadata": {},
   "outputs": [],
   "source": [
    "college = pd.read_csv('master/college.csv', index_col='INSTNM')\n",
    "college.dtypes"
   ]
  },
  {
   "cell_type": "code",
   "execution_count": null,
   "metadata": {},
   "outputs": [],
   "source": [
    "cols = ['MD_EARN_WNE_P10', 'GRAD_DEBT_MDN_SUPP']\n",
    "for col in cols:\n",
    "    college[col] = pd.to_numeric(college[col], errors='coerce')\n",
    "\n",
    "college.dtypes.loc[cols]"
   ]
  },
  {
   "cell_type": "markdown",
   "metadata": {},
   "source": [
    "### Selecting only numerical columns"
   ]
  },
  {
   "cell_type": "code",
   "execution_count": null,
   "metadata": {},
   "outputs": [],
   "source": [
    "college_n = college.select_dtypes(include=[np.number])\n",
    "college_n.head() # only numeric columns"
   ]
  },
  {
   "cell_type": "code",
   "execution_count": null,
   "metadata": {},
   "outputs": [],
   "source": [
    "#find all the columns that have two unique values with the nunique method\n",
    "criteria = college_n.nunique() == 2\n",
    "criteria.head()\n",
    "binary_cols = college_n.columns[criteria].tolist()\n",
    "binary_cols\n",
    "#droppin bynary cols\n",
    "college_n2 = college_n.drop(labels=binary_cols, axis='columns')\n",
    "college_n2.head()"
   ]
  },
  {
   "cell_type": "code",
   "execution_count": null,
   "metadata": {},
   "outputs": [],
   "source": [
    "#Use the idxmax method to find the index label of the maximum value for each column:\n",
    "max_cols = college_n2.idxmax()\n",
    "max_cols"
   ]
  },
  {
   "cell_type": "markdown",
   "metadata": {},
   "source": [
    "### Highlighting Max Values"
   ]
  },
  {
   "cell_type": "code",
   "execution_count": null,
   "metadata": {},
   "outputs": [],
   "source": [
    "#Unique column names\n",
    "unique_max_cols = max_cols.unique()\n",
    "unique_max_cols[:5]\n",
    "college_n2.loc[unique_max_cols].style.highlight_max()"
   ]
  },
  {
   "cell_type": "code",
   "execution_count": null,
   "metadata": {},
   "outputs": [],
   "source": [
    "college = pd.read_csv('master/college.csv', index_col='INSTNM')\n",
    "college_ugds = college.filter(like='UGDS_').head()\n",
    "college_ugds.style.highlight_max(axis='columns')"
   ]
  },
  {
   "cell_type": "markdown",
   "metadata": {},
   "source": [
    "### Finding th most common maximum"
   ]
  },
  {
   "cell_type": "code",
   "execution_count": null,
   "metadata": {},
   "outputs": [],
   "source": [
    "college = pd.read_csv('master/college.csv', index_col='INSTNM')\n",
    "college_ugds = college.filter(like='UGDS_')\n",
    "college_ugds.head()"
   ]
  },
  {
   "cell_type": "code",
   "execution_count": null,
   "metadata": {},
   "outputs": [],
   "source": [
    "highest_percentage_race = college_ugds.idxmax(axis='columns')\n",
    "highest_percentage_race.head()"
   ]
  },
  {
   "cell_type": "code",
   "execution_count": null,
   "metadata": {},
   "outputs": [],
   "source": [
    "highest_percentage_race.value_counts(normalize=True)"
   ]
  },
  {
   "cell_type": "markdown",
   "metadata": {},
   "source": [
    "# Pandas Options\n",
    "[back to Start](#Content)"
   ]
  },
  {
   "cell_type": "code",
   "execution_count": null,
   "metadata": {},
   "outputs": [],
   "source": [
    "# pd.set_option('max_columns', 8, 'max_rows', 10)"
   ]
  },
  {
   "cell_type": "code",
   "execution_count": null,
   "metadata": {},
   "outputs": [],
   "source": [
    "# pd.options.display.max_columns = 40"
   ]
  },
  {
   "cell_type": "code",
   "execution_count": null,
   "metadata": {},
   "outputs": [],
   "source": []
  },
  {
   "cell_type": "code",
   "execution_count": null,
   "metadata": {},
   "outputs": [],
   "source": []
  },
  {
   "cell_type": "code",
   "execution_count": null,
   "metadata": {},
   "outputs": [],
   "source": []
  }
 ],
 "metadata": {
  "kernelspec": {
   "display_name": "Python 3",
   "language": "python",
   "name": "python3"
  },
  "language_info": {
   "codemirror_mode": {
    "name": "ipython",
    "version": 3
   },
   "file_extension": ".py",
   "mimetype": "text/x-python",
   "name": "python",
   "nbconvert_exporter": "python",
   "pygments_lexer": "ipython3",
   "version": "3.6.4"
  }
 },
 "nbformat": 4,
 "nbformat_minor": 2
}
